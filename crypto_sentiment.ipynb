{
 "cells": [
  {
   "cell_type": "code",
   "execution_count": 1,
   "metadata": {},
   "outputs": [],
   "source": [
    "import os\n",
    "import pandas as pd\n",
    "%matplotlib inline\n",
    "from dotenv import load_dotenv\n",
    "from newsapi.newsapi_client import NewsApiClient"
   ]
  },
  {
   "cell_type": "code",
   "execution_count": 2,
   "metadata": {},
   "outputs": [],
   "source": [
    "from nltk.sentiment.vader import SentimentIntensityAnalyzer\n",
    "analyzer = SentimentIntensityAnalyzer()"
   ]
  },
  {
   "cell_type": "markdown",
   "metadata": {},
   "source": [
    "# News Headlines Sentiment\n",
    "\n",
    "Use the news api to pull the latest news articles for bitcoin and ethereum and create a DataFrame of sentiment scores for each coin. \n",
    "\n",
    "Use descriptive statistics to answer the following questions:\n",
    "1. Which coin had the highest mean positive score?\n",
    "2. Which coin had the highest negative score?\n",
    "3. Which coin had the highest positive score?"
   ]
  },
  {
   "cell_type": "code",
   "execution_count": 3,
   "metadata": {},
   "outputs": [],
   "source": [
    "# Read your api key environment variable\n",
    "load_dotenv()\n",
    "api_key=os.getenv('NEWSAPI_API_KEY')"
   ]
  },
  {
   "cell_type": "code",
   "execution_count": 4,
   "metadata": {},
   "outputs": [],
   "source": [
    "# Create a newsapi client\n",
    "newsapi = NewsApiClient(api_key=api_key)"
   ]
  },
  {
   "cell_type": "code",
   "execution_count": 5,
   "metadata": {},
   "outputs": [],
   "source": [
    "# Fetch the Bitcoin news articles\n",
    "bitcoin_articles = newsapi.get_everything(\n",
    "    q=\"bitcoin\", language=\"en\", sort_by=\"relevancy\"\n",
    ")"
   ]
  },
  {
   "cell_type": "code",
   "execution_count": 6,
   "metadata": {},
   "outputs": [
    {
     "name": "stdout",
     "output_type": "stream",
     "text": [
      "Total articles about bitcoin: 4396\n"
     ]
    },
    {
     "data": {
      "text/plain": [
       "{'source': {'id': 'engadget', 'name': 'Engadget'},\n",
       " 'author': 'Karissa Bell',\n",
       " 'title': 'The FBI is investigating the Twitter Bitcoin hack',\n",
       " 'description': 'The FBI has confirmed that it’s investigating the hack that compromised the accounts of Joe Biden, Elon Musk, Barack Obama, Kanye West and a number of other high-profile Twitter users.\\xa0“The FBI is investigating the incident involving several Twitter account b…',\n",
       " 'url': 'https://www.engadget.com/fbi-investigates-twitter-hack-crypto-scam-210819751.html',\n",
       " 'urlToImage': 'https://o.aolcdn.com/images/dims?resize=1200%2C630&crop=1200%2C630%2C0%2C0&quality=95&image_uri=https%3A%2F%2Fs.yimg.com%2Fos%2Fcreatr-images%2F2020-07%2F665bf5b0-c7a7-11ea-bf77-fd38c73c45ca&client=amp-blogside-v2&signature=35fbb76051772c8531395240d32dc65ca43d8866',\n",
       " 'publishedAt': '2020-07-16T21:08:19Z',\n",
       " 'content': 'Reuters had previously reported the FBI would launch an investigation into the hack.\\r\\nThe FBI inquiry is now one of multiple investigations into the incident, which has drawn scrutiny from a number o… [+966 chars]'}"
      ]
     },
     "execution_count": 6,
     "metadata": {},
     "output_type": "execute_result"
    }
   ],
   "source": [
    "# Print total articles\n",
    "print(f\"Total articles about bitcoin: {bitcoin_articles['totalResults']}\")\n",
    "\n",
    "# Show sample article\n",
    "bitcoin_articles[\"articles\"][1]"
   ]
  },
  {
   "cell_type": "code",
   "execution_count": 7,
   "metadata": {},
   "outputs": [
    {
     "data": {
      "text/html": [
       "<div>\n",
       "<style scoped>\n",
       "    .dataframe tbody tr th:only-of-type {\n",
       "        vertical-align: middle;\n",
       "    }\n",
       "\n",
       "    .dataframe tbody tr th {\n",
       "        vertical-align: top;\n",
       "    }\n",
       "\n",
       "    .dataframe thead th {\n",
       "        text-align: right;\n",
       "    }\n",
       "</style>\n",
       "<table border=\"1\" class=\"dataframe\">\n",
       "  <thead>\n",
       "    <tr style=\"text-align: right;\">\n",
       "      <th></th>\n",
       "      <th>author</th>\n",
       "      <th>content</th>\n",
       "      <th>description</th>\n",
       "      <th>publishedAt</th>\n",
       "      <th>source</th>\n",
       "      <th>title</th>\n",
       "      <th>url</th>\n",
       "      <th>urlToImage</th>\n",
       "    </tr>\n",
       "  </thead>\n",
       "  <tbody>\n",
       "    <tr>\n",
       "      <th>0</th>\n",
       "      <td>Violet Blue</td>\n",
       "      <td>Just hackers burning up 0day like it’s a fire ...</td>\n",
       "      <td>On Wednesday, July 15, Twitter was the target ...</td>\n",
       "      <td>2020-07-17T19:30:40Z</td>\n",
       "      <td>{'id': 'engadget', 'name': 'Engadget'}</td>\n",
       "      <td>Twitter's Bitcoin hackers had almost limitless...</td>\n",
       "      <td>https://www.engadget.com/twitter-bitcoin-scam-...</td>\n",
       "      <td>https://o.aolcdn.com/images/dims?resize=1200%2...</td>\n",
       "    </tr>\n",
       "    <tr>\n",
       "      <th>1</th>\n",
       "      <td>Karissa Bell</td>\n",
       "      <td>Reuters had previously reported the FBI would ...</td>\n",
       "      <td>The FBI has confirmed that it’s investigating ...</td>\n",
       "      <td>2020-07-16T21:08:19Z</td>\n",
       "      <td>{'id': 'engadget', 'name': 'Engadget'}</td>\n",
       "      <td>The FBI is investigating the Twitter Bitcoin hack</td>\n",
       "      <td>https://www.engadget.com/fbi-investigates-twit...</td>\n",
       "      <td>https://o.aolcdn.com/images/dims?resize=1200%2...</td>\n",
       "    </tr>\n",
       "    <tr>\n",
       "      <th>2</th>\n",
       "      <td>Chris Velazco</td>\n",
       "      <td>Most of these accounts tweeted some variant of...</td>\n",
       "      <td>Author’s note: This story was first published ...</td>\n",
       "      <td>2020-07-16T20:24:47Z</td>\n",
       "      <td>{'id': 'engadget', 'name': 'Engadget'}</td>\n",
       "      <td>Everything we know about the Twitter Bitcoin hack</td>\n",
       "      <td>https://www.engadget.com/everything-we-know-ab...</td>\n",
       "      <td>https://o.aolcdn.com/images/dims?resize=1200%2...</td>\n",
       "    </tr>\n",
       "    <tr>\n",
       "      <th>3</th>\n",
       "      <td>Richard Lawler</td>\n",
       "      <td>Our investigation and cooperation with law enf...</td>\n",
       "      <td>Ever since Wednesday’s “bitcoin scam” hack whe...</td>\n",
       "      <td>2020-07-18T04:14:10Z</td>\n",
       "      <td>{'id': 'engadget', 'name': 'Engadget'}</td>\n",
       "      <td>Twitter confirms 'Bitcoin' hackers copied the ...</td>\n",
       "      <td>https://www.engadget.com/twitter-wednesday-bit...</td>\n",
       "      <td>https://o.aolcdn.com/images/dims?resize=1200%2...</td>\n",
       "    </tr>\n",
       "    <tr>\n",
       "      <th>4</th>\n",
       "      <td>https://www.facebook.com/bbcnews</td>\n",
       "      <td>Image copyrightAFP/REUTERSImage caption\\r\\n Ki...</td>\n",
       "      <td>Hackers managed to hijack official accounts of...</td>\n",
       "      <td>2020-07-16T22:42:57Z</td>\n",
       "      <td>{'id': 'bbc-news', 'name': 'BBC News'}</td>\n",
       "      <td>Twitter hack: FBI investigates major attack</td>\n",
       "      <td>https://www.bbc.co.uk/news/technology-53439585</td>\n",
       "      <td>https://ichef.bbci.co.uk/news/1024/branded_new...</td>\n",
       "    </tr>\n",
       "  </tbody>\n",
       "</table>\n",
       "</div>"
      ],
      "text/plain": [
       "                             author  \\\n",
       "0                       Violet Blue   \n",
       "1                      Karissa Bell   \n",
       "2                     Chris Velazco   \n",
       "3                    Richard Lawler   \n",
       "4  https://www.facebook.com/bbcnews   \n",
       "\n",
       "                                             content  \\\n",
       "0  Just hackers burning up 0day like it’s a fire ...   \n",
       "1  Reuters had previously reported the FBI would ...   \n",
       "2  Most of these accounts tweeted some variant of...   \n",
       "3  Our investigation and cooperation with law enf...   \n",
       "4  Image copyrightAFP/REUTERSImage caption\\r\\n Ki...   \n",
       "\n",
       "                                         description           publishedAt  \\\n",
       "0  On Wednesday, July 15, Twitter was the target ...  2020-07-17T19:30:40Z   \n",
       "1  The FBI has confirmed that it’s investigating ...  2020-07-16T21:08:19Z   \n",
       "2  Author’s note: This story was first published ...  2020-07-16T20:24:47Z   \n",
       "3  Ever since Wednesday’s “bitcoin scam” hack whe...  2020-07-18T04:14:10Z   \n",
       "4  Hackers managed to hijack official accounts of...  2020-07-16T22:42:57Z   \n",
       "\n",
       "                                   source  \\\n",
       "0  {'id': 'engadget', 'name': 'Engadget'}   \n",
       "1  {'id': 'engadget', 'name': 'Engadget'}   \n",
       "2  {'id': 'engadget', 'name': 'Engadget'}   \n",
       "3  {'id': 'engadget', 'name': 'Engadget'}   \n",
       "4  {'id': 'bbc-news', 'name': 'BBC News'}   \n",
       "\n",
       "                                               title  \\\n",
       "0  Twitter's Bitcoin hackers had almost limitless...   \n",
       "1  The FBI is investigating the Twitter Bitcoin hack   \n",
       "2  Everything we know about the Twitter Bitcoin hack   \n",
       "3  Twitter confirms 'Bitcoin' hackers copied the ...   \n",
       "4        Twitter hack: FBI investigates major attack   \n",
       "\n",
       "                                                 url  \\\n",
       "0  https://www.engadget.com/twitter-bitcoin-scam-...   \n",
       "1  https://www.engadget.com/fbi-investigates-twit...   \n",
       "2  https://www.engadget.com/everything-we-know-ab...   \n",
       "3  https://www.engadget.com/twitter-wednesday-bit...   \n",
       "4     https://www.bbc.co.uk/news/technology-53439585   \n",
       "\n",
       "                                          urlToImage  \n",
       "0  https://o.aolcdn.com/images/dims?resize=1200%2...  \n",
       "1  https://o.aolcdn.com/images/dims?resize=1200%2...  \n",
       "2  https://o.aolcdn.com/images/dims?resize=1200%2...  \n",
       "3  https://o.aolcdn.com/images/dims?resize=1200%2...  \n",
       "4  https://ichef.bbci.co.uk/news/1024/branded_new...  "
      ]
     },
     "execution_count": 7,
     "metadata": {},
     "output_type": "execute_result"
    }
   ],
   "source": [
    "# Create a dataframe to have an overview of what articles are pulled\n",
    "df = pd.DataFrame.from_dict(bitcoin_articles[\"articles\"])\n",
    "df.head()"
   ]
  },
  {
   "cell_type": "code",
   "execution_count": 8,
   "metadata": {},
   "outputs": [],
   "source": [
    "# Fetch the Ethereum news articles\n",
    "ethereum_articles = newsapi.get_everything(\n",
    "    q=\"ethereum\", language=\"en\", sort_by=\"relevancy\"\n",
    ")"
   ]
  },
  {
   "cell_type": "code",
   "execution_count": 9,
   "metadata": {},
   "outputs": [
    {
     "name": "stdout",
     "output_type": "stream",
     "text": [
      "Total articles about ethereum: 966\n"
     ]
    },
    {
     "data": {
      "text/plain": [
       "{'source': {'id': 'techcrunch', 'name': 'TechCrunch'},\n",
       " 'author': 'Catherine Shu',\n",
       " 'title': 'Singapore-based options trading platform Sparrow raises $3.5 million Series A',\n",
       " 'description': 'Sparrow Exchange, a Bitcoin and Ethereum options trading platform based in Singapore, announced today it has raised $3.5 million in Series A funding. The round was led by HDR Group, the owner of cryptocurrency exchange BitMEX, with participation from Signum C…',\n",
       " 'url': 'http://techcrunch.com/2020/06/23/singapore-based-options-trading-platform-sparrow-raises-3-5-million-series-a/',\n",
       " 'urlToImage': 'https://techcrunch.com/wp-content/uploads/2020/06/GettyImages-1193112376.jpg?w=600',\n",
       " 'publishedAt': '2020-06-23T08:48:47Z',\n",
       " 'content': 'Sparrow Exchange, a Bitcoin and Ethereum options trading platform based in Singapore, announced today it has raised $3.5 million in Series A funding.\\r\\nThe round was led by HDR Group, the owner of cry… [+833 chars]'}"
      ]
     },
     "execution_count": 9,
     "metadata": {},
     "output_type": "execute_result"
    }
   ],
   "source": [
    "# Print total articles\n",
    "print(f\"Total articles about ethereum: {ethereum_articles['totalResults']}\")\n",
    "\n",
    "# Show sample article\n",
    "ethereum_articles[\"articles\"][0]"
   ]
  },
  {
   "cell_type": "code",
   "execution_count": 10,
   "metadata": {},
   "outputs": [
    {
     "data": {
      "text/html": [
       "<div>\n",
       "<style scoped>\n",
       "    .dataframe tbody tr th:only-of-type {\n",
       "        vertical-align: middle;\n",
       "    }\n",
       "\n",
       "    .dataframe tbody tr th {\n",
       "        vertical-align: top;\n",
       "    }\n",
       "\n",
       "    .dataframe thead th {\n",
       "        text-align: right;\n",
       "    }\n",
       "</style>\n",
       "<table border=\"1\" class=\"dataframe\">\n",
       "  <thead>\n",
       "    <tr style=\"text-align: right;\">\n",
       "      <th></th>\n",
       "      <th>date</th>\n",
       "      <th>text</th>\n",
       "      <th>compound</th>\n",
       "      <th>positive</th>\n",
       "      <th>negative</th>\n",
       "      <th>neutral</th>\n",
       "    </tr>\n",
       "  </thead>\n",
       "  <tbody>\n",
       "    <tr>\n",
       "      <th>0</th>\n",
       "      <td>2020-07-17T19:30:40Z</td>\n",
       "      <td>Just hackers burning up 0day like it’s a fire ...</td>\n",
       "      <td>0.0258</td>\n",
       "      <td>0.061</td>\n",
       "      <td>0.059</td>\n",
       "      <td>0.880</td>\n",
       "    </tr>\n",
       "    <tr>\n",
       "      <th>1</th>\n",
       "      <td>2020-07-16T21:08:19Z</td>\n",
       "      <td>Reuters had previously reported the FBI would ...</td>\n",
       "      <td>0.0772</td>\n",
       "      <td>0.038</td>\n",
       "      <td>0.000</td>\n",
       "      <td>0.962</td>\n",
       "    </tr>\n",
       "    <tr>\n",
       "      <th>2</th>\n",
       "      <td>2020-07-16T20:24:47Z</td>\n",
       "      <td>Most of these accounts tweeted some variant of...</td>\n",
       "      <td>0.0000</td>\n",
       "      <td>0.000</td>\n",
       "      <td>0.000</td>\n",
       "      <td>1.000</td>\n",
       "    </tr>\n",
       "    <tr>\n",
       "      <th>3</th>\n",
       "      <td>2020-07-18T04:14:10Z</td>\n",
       "      <td>Our investigation and cooperation with law enf...</td>\n",
       "      <td>0.5994</td>\n",
       "      <td>0.149</td>\n",
       "      <td>0.000</td>\n",
       "      <td>0.851</td>\n",
       "    </tr>\n",
       "    <tr>\n",
       "      <th>4</th>\n",
       "      <td>2020-07-16T22:42:57Z</td>\n",
       "      <td>Image copyrightAFP/REUTERSImage caption\\r\\n Ki...</td>\n",
       "      <td>0.1280</td>\n",
       "      <td>0.049</td>\n",
       "      <td>0.000</td>\n",
       "      <td>0.951</td>\n",
       "    </tr>\n",
       "  </tbody>\n",
       "</table>\n",
       "</div>"
      ],
      "text/plain": [
       "                   date                                               text  \\\n",
       "0  2020-07-17T19:30:40Z  Just hackers burning up 0day like it’s a fire ...   \n",
       "1  2020-07-16T21:08:19Z  Reuters had previously reported the FBI would ...   \n",
       "2  2020-07-16T20:24:47Z  Most of these accounts tweeted some variant of...   \n",
       "3  2020-07-18T04:14:10Z  Our investigation and cooperation with law enf...   \n",
       "4  2020-07-16T22:42:57Z  Image copyrightAFP/REUTERSImage caption\\r\\n Ki...   \n",
       "\n",
       "   compound  positive  negative  neutral  \n",
       "0    0.0258     0.061     0.059    0.880  \n",
       "1    0.0772     0.038     0.000    0.962  \n",
       "2    0.0000     0.000     0.000    1.000  \n",
       "3    0.5994     0.149     0.000    0.851  \n",
       "4    0.1280     0.049     0.000    0.951  "
      ]
     },
     "execution_count": 10,
     "metadata": {},
     "output_type": "execute_result"
    }
   ],
   "source": [
    "# Create the Bitcoin sentiment scores DataFrame\n",
    "bitcoin_sentiments = []\n",
    "\n",
    "for article in bitcoin_articles[\"articles\"]:\n",
    "    try:\n",
    "        text = article[\"content\"]\n",
    "        date = article[\"publishedAt\"]\n",
    "        sentiment = analyzer.polarity_scores(text)\n",
    "        compound = sentiment[\"compound\"]\n",
    "        pos = sentiment[\"pos\"]\n",
    "        neu = sentiment[\"neu\"]\n",
    "        neg = sentiment[\"neg\"]\n",
    "        \n",
    "        bitcoin_sentiments.append({\n",
    "            \"text\": text,\n",
    "            \"date\": date,\n",
    "            \"compound\": compound,\n",
    "            \"positive\": pos,\n",
    "            \"negative\": neg,\n",
    "            \"neutral\": neu\n",
    "            \n",
    "        })\n",
    "        \n",
    "    except AttributeError:\n",
    "        pass\n",
    "    \n",
    "# Create DataFrame\n",
    "bitcoin_df = pd.DataFrame(bitcoin_sentiments)\n",
    "\n",
    "# Reorder DataFrame columns\n",
    "cols = [\"date\", \"text\", \"compound\", \"positive\", \"negative\", \"neutral\"]\n",
    "bitcoin_df = bitcoin_df[cols]\n",
    "\n",
    "bitcoin_df.head()"
   ]
  },
  {
   "cell_type": "code",
   "execution_count": 11,
   "metadata": {},
   "outputs": [
    {
     "data": {
      "text/html": [
       "<div>\n",
       "<style scoped>\n",
       "    .dataframe tbody tr th:only-of-type {\n",
       "        vertical-align: middle;\n",
       "    }\n",
       "\n",
       "    .dataframe tbody tr th {\n",
       "        vertical-align: top;\n",
       "    }\n",
       "\n",
       "    .dataframe thead th {\n",
       "        text-align: right;\n",
       "    }\n",
       "</style>\n",
       "<table border=\"1\" class=\"dataframe\">\n",
       "  <thead>\n",
       "    <tr style=\"text-align: right;\">\n",
       "      <th></th>\n",
       "      <th>date</th>\n",
       "      <th>text</th>\n",
       "      <th>compound</th>\n",
       "      <th>positive</th>\n",
       "      <th>negative</th>\n",
       "      <th>neutral</th>\n",
       "    </tr>\n",
       "  </thead>\n",
       "  <tbody>\n",
       "    <tr>\n",
       "      <th>0</th>\n",
       "      <td>2020-06-23T08:48:47Z</td>\n",
       "      <td>Sparrow Exchange, a Bitcoin and Ethereum optio...</td>\n",
       "      <td>0.0000</td>\n",
       "      <td>0.000</td>\n",
       "      <td>0.0</td>\n",
       "      <td>1.000</td>\n",
       "    </tr>\n",
       "    <tr>\n",
       "      <th>1</th>\n",
       "      <td>2020-06-17T19:00:35Z</td>\n",
       "      <td>Editor’s note:Andreessen HorowitzsCrypto Start...</td>\n",
       "      <td>0.0000</td>\n",
       "      <td>0.000</td>\n",
       "      <td>0.0</td>\n",
       "      <td>1.000</td>\n",
       "    </tr>\n",
       "    <tr>\n",
       "      <th>2</th>\n",
       "      <td>2020-06-25T04:30:00Z</td>\n",
       "      <td>TL;DR: The Complete Cryptocurrency Investment ...</td>\n",
       "      <td>0.0000</td>\n",
       "      <td>0.000</td>\n",
       "      <td>0.0</td>\n",
       "      <td>1.000</td>\n",
       "    </tr>\n",
       "    <tr>\n",
       "      <th>3</th>\n",
       "      <td>2020-06-22T16:23:08Z</td>\n",
       "      <td>Introducing Web3Torrent\\r\\nJune 18, 2020\\r\\nTo...</td>\n",
       "      <td>0.5574</td>\n",
       "      <td>0.137</td>\n",
       "      <td>0.0</td>\n",
       "      <td>0.863</td>\n",
       "    </tr>\n",
       "    <tr>\n",
       "      <th>4</th>\n",
       "      <td>2020-07-01T15:00:17Z</td>\n",
       "      <td>When the inventor of AWS Lambda, Tim Wagner, a...</td>\n",
       "      <td>0.2263</td>\n",
       "      <td>0.053</td>\n",
       "      <td>0.0</td>\n",
       "      <td>0.947</td>\n",
       "    </tr>\n",
       "  </tbody>\n",
       "</table>\n",
       "</div>"
      ],
      "text/plain": [
       "                   date                                               text  \\\n",
       "0  2020-06-23T08:48:47Z  Sparrow Exchange, a Bitcoin and Ethereum optio...   \n",
       "1  2020-06-17T19:00:35Z  Editor’s note:Andreessen HorowitzsCrypto Start...   \n",
       "2  2020-06-25T04:30:00Z  TL;DR: The Complete Cryptocurrency Investment ...   \n",
       "3  2020-06-22T16:23:08Z  Introducing Web3Torrent\\r\\nJune 18, 2020\\r\\nTo...   \n",
       "4  2020-07-01T15:00:17Z  When the inventor of AWS Lambda, Tim Wagner, a...   \n",
       "\n",
       "   compound  positive  negative  neutral  \n",
       "0    0.0000     0.000       0.0    1.000  \n",
       "1    0.0000     0.000       0.0    1.000  \n",
       "2    0.0000     0.000       0.0    1.000  \n",
       "3    0.5574     0.137       0.0    0.863  \n",
       "4    0.2263     0.053       0.0    0.947  "
      ]
     },
     "execution_count": 11,
     "metadata": {},
     "output_type": "execute_result"
    }
   ],
   "source": [
    "# Create the ethereum sentiment scores DataFrame\n",
    "ethereum_sentiments = []\n",
    "\n",
    "for article in ethereum_articles[\"articles\"]:\n",
    "    try:\n",
    "        text = article[\"content\"]\n",
    "        date = article[\"publishedAt\"]\n",
    "        sentiment = analyzer.polarity_scores(text)\n",
    "        compound = sentiment[\"compound\"]\n",
    "        pos = sentiment[\"pos\"]\n",
    "        neu = sentiment[\"neu\"]\n",
    "        neg = sentiment[\"neg\"]\n",
    "        \n",
    "        ethereum_sentiments.append({\n",
    "            \"text\": text,\n",
    "            \"date\": date,\n",
    "            \"compound\": compound,\n",
    "            \"positive\": pos,\n",
    "            \"negative\": neg,\n",
    "            \"neutral\": neu\n",
    "            \n",
    "        })\n",
    "        \n",
    "    except AttributeError:\n",
    "        pass\n",
    "    \n",
    "# Create DataFrame\n",
    "ethereum_df = pd.DataFrame(ethereum_sentiments)\n",
    "\n",
    "# Reorder DataFrame columns\n",
    "cols = [\"date\", \"text\", \"compound\", \"positive\", \"negative\", \"neutral\"]\n",
    "ethereum_df = ethereum_df[cols]\n",
    "\n",
    "ethereum_df.head()"
   ]
  },
  {
   "cell_type": "code",
   "execution_count": 12,
   "metadata": {},
   "outputs": [
    {
     "data": {
      "text/html": [
       "<div>\n",
       "<style scoped>\n",
       "    .dataframe tbody tr th:only-of-type {\n",
       "        vertical-align: middle;\n",
       "    }\n",
       "\n",
       "    .dataframe tbody tr th {\n",
       "        vertical-align: top;\n",
       "    }\n",
       "\n",
       "    .dataframe thead th {\n",
       "        text-align: right;\n",
       "    }\n",
       "</style>\n",
       "<table border=\"1\" class=\"dataframe\">\n",
       "  <thead>\n",
       "    <tr style=\"text-align: right;\">\n",
       "      <th></th>\n",
       "      <th>compound</th>\n",
       "      <th>positive</th>\n",
       "      <th>negative</th>\n",
       "      <th>neutral</th>\n",
       "    </tr>\n",
       "  </thead>\n",
       "  <tbody>\n",
       "    <tr>\n",
       "      <th>count</th>\n",
       "      <td>20.00000</td>\n",
       "      <td>20.000000</td>\n",
       "      <td>20.000000</td>\n",
       "      <td>20.000000</td>\n",
       "    </tr>\n",
       "    <tr>\n",
       "      <th>mean</th>\n",
       "      <td>-0.19796</td>\n",
       "      <td>0.030150</td>\n",
       "      <td>0.068050</td>\n",
       "      <td>0.901750</td>\n",
       "    </tr>\n",
       "    <tr>\n",
       "      <th>std</th>\n",
       "      <td>0.37825</td>\n",
       "      <td>0.040888</td>\n",
       "      <td>0.078697</td>\n",
       "      <td>0.088594</td>\n",
       "    </tr>\n",
       "    <tr>\n",
       "      <th>min</th>\n",
       "      <td>-0.86890</td>\n",
       "      <td>0.000000</td>\n",
       "      <td>0.000000</td>\n",
       "      <td>0.687000</td>\n",
       "    </tr>\n",
       "    <tr>\n",
       "      <th>25%</th>\n",
       "      <td>-0.45910</td>\n",
       "      <td>0.000000</td>\n",
       "      <td>0.000000</td>\n",
       "      <td>0.848250</td>\n",
       "    </tr>\n",
       "    <tr>\n",
       "      <th>50%</th>\n",
       "      <td>-0.07655</td>\n",
       "      <td>0.000000</td>\n",
       "      <td>0.060500</td>\n",
       "      <td>0.916000</td>\n",
       "    </tr>\n",
       "    <tr>\n",
       "      <th>75%</th>\n",
       "      <td>0.00645</td>\n",
       "      <td>0.052000</td>\n",
       "      <td>0.103750</td>\n",
       "      <td>0.971500</td>\n",
       "    </tr>\n",
       "    <tr>\n",
       "      <th>max</th>\n",
       "      <td>0.59940</td>\n",
       "      <td>0.149000</td>\n",
       "      <td>0.277000</td>\n",
       "      <td>1.000000</td>\n",
       "    </tr>\n",
       "  </tbody>\n",
       "</table>\n",
       "</div>"
      ],
      "text/plain": [
       "       compound   positive   negative    neutral\n",
       "count  20.00000  20.000000  20.000000  20.000000\n",
       "mean   -0.19796   0.030150   0.068050   0.901750\n",
       "std     0.37825   0.040888   0.078697   0.088594\n",
       "min    -0.86890   0.000000   0.000000   0.687000\n",
       "25%    -0.45910   0.000000   0.000000   0.848250\n",
       "50%    -0.07655   0.000000   0.060500   0.916000\n",
       "75%     0.00645   0.052000   0.103750   0.971500\n",
       "max     0.59940   0.149000   0.277000   1.000000"
      ]
     },
     "execution_count": 12,
     "metadata": {},
     "output_type": "execute_result"
    }
   ],
   "source": [
    "# Describe the Bitcoin Sentiment\n",
    "bitcoin_df.describe()"
   ]
  },
  {
   "cell_type": "code",
   "execution_count": 13,
   "metadata": {},
   "outputs": [
    {
     "data": {
      "text/html": [
       "<div>\n",
       "<style scoped>\n",
       "    .dataframe tbody tr th:only-of-type {\n",
       "        vertical-align: middle;\n",
       "    }\n",
       "\n",
       "    .dataframe tbody tr th {\n",
       "        vertical-align: top;\n",
       "    }\n",
       "\n",
       "    .dataframe thead th {\n",
       "        text-align: right;\n",
       "    }\n",
       "</style>\n",
       "<table border=\"1\" class=\"dataframe\">\n",
       "  <thead>\n",
       "    <tr style=\"text-align: right;\">\n",
       "      <th></th>\n",
       "      <th>compound</th>\n",
       "      <th>positive</th>\n",
       "      <th>negative</th>\n",
       "      <th>neutral</th>\n",
       "    </tr>\n",
       "  </thead>\n",
       "  <tbody>\n",
       "    <tr>\n",
       "      <th>count</th>\n",
       "      <td>16.000000</td>\n",
       "      <td>16.000000</td>\n",
       "      <td>16.000000</td>\n",
       "      <td>16.000000</td>\n",
       "    </tr>\n",
       "    <tr>\n",
       "      <th>mean</th>\n",
       "      <td>0.279250</td>\n",
       "      <td>0.101875</td>\n",
       "      <td>0.042125</td>\n",
       "      <td>0.856000</td>\n",
       "    </tr>\n",
       "    <tr>\n",
       "      <th>std</th>\n",
       "      <td>0.416210</td>\n",
       "      <td>0.085207</td>\n",
       "      <td>0.048503</td>\n",
       "      <td>0.102154</td>\n",
       "    </tr>\n",
       "    <tr>\n",
       "      <th>min</th>\n",
       "      <td>-0.451900</td>\n",
       "      <td>0.000000</td>\n",
       "      <td>0.000000</td>\n",
       "      <td>0.660000</td>\n",
       "    </tr>\n",
       "    <tr>\n",
       "      <th>25%</th>\n",
       "      <td>0.000000</td>\n",
       "      <td>0.000000</td>\n",
       "      <td>0.000000</td>\n",
       "      <td>0.802500</td>\n",
       "    </tr>\n",
       "    <tr>\n",
       "      <th>50%</th>\n",
       "      <td>0.381550</td>\n",
       "      <td>0.119000</td>\n",
       "      <td>0.024500</td>\n",
       "      <td>0.855000</td>\n",
       "    </tr>\n",
       "    <tr>\n",
       "      <th>75%</th>\n",
       "      <td>0.647875</td>\n",
       "      <td>0.170000</td>\n",
       "      <td>0.078250</td>\n",
       "      <td>0.920750</td>\n",
       "    </tr>\n",
       "    <tr>\n",
       "      <th>max</th>\n",
       "      <td>0.731600</td>\n",
       "      <td>0.226000</td>\n",
       "      <td>0.130000</td>\n",
       "      <td>1.000000</td>\n",
       "    </tr>\n",
       "  </tbody>\n",
       "</table>\n",
       "</div>"
      ],
      "text/plain": [
       "        compound   positive   negative    neutral\n",
       "count  16.000000  16.000000  16.000000  16.000000\n",
       "mean    0.279250   0.101875   0.042125   0.856000\n",
       "std     0.416210   0.085207   0.048503   0.102154\n",
       "min    -0.451900   0.000000   0.000000   0.660000\n",
       "25%     0.000000   0.000000   0.000000   0.802500\n",
       "50%     0.381550   0.119000   0.024500   0.855000\n",
       "75%     0.647875   0.170000   0.078250   0.920750\n",
       "max     0.731600   0.226000   0.130000   1.000000"
      ]
     },
     "execution_count": 13,
     "metadata": {},
     "output_type": "execute_result"
    }
   ],
   "source": [
    "# Describe the Ethereum Sentiment\n",
    "ethereum_df.describe()"
   ]
  },
  {
   "cell_type": "markdown",
   "metadata": {},
   "source": [
    "### Questions:\n",
    "\n",
    "Q: Which coin had the highest mean positive score?\n",
    "\n",
    "A: \n",
    "\n",
    "Q: Which coin had the highest compound score?\n",
    "\n",
    "A: \n",
    "\n",
    "Q. Which coin had the highest positive score?\n",
    "\n",
    "A: "
   ]
  },
  {
   "cell_type": "markdown",
   "metadata": {},
   "source": [
    "---"
   ]
  },
  {
   "cell_type": "markdown",
   "metadata": {},
   "source": [
    "# Tokenizer\n",
    "\n",
    "In this section, you will use NLTK and Python to tokenize the text for each coin. Be sure to:\n",
    "1. Lowercase each word\n",
    "2. Remove Punctuation\n",
    "3. Remove Stopwords"
   ]
  },
  {
   "cell_type": "code",
   "execution_count": 14,
   "metadata": {},
   "outputs": [],
   "source": [
    "from nltk.tokenize import word_tokenize, sent_tokenize\n",
    "from nltk.corpus import stopwords\n",
    "from nltk.stem import WordNetLemmatizer, PorterStemmer\n",
    "from string import punctuation\n",
    "import re"
   ]
  },
  {
   "cell_type": "code",
   "execution_count": 15,
   "metadata": {},
   "outputs": [
    {
     "data": {
      "text/plain": [
       "['Reuters had previously reported the FBI would launch an investigation into the hack.',\n",
       " 'The FBI inquiry is now one of multiple investigations into the incident, which has drawn scrutiny from a number o… [+966 chars]']"
      ]
     },
     "execution_count": 15,
     "metadata": {},
     "output_type": "execute_result"
    }
   ],
   "source": [
    "sent_tokenize(bitcoin_articles[\"articles\"][1]['content'])"
   ]
  },
  {
   "cell_type": "code",
   "execution_count": 16,
   "metadata": {},
   "outputs": [],
   "source": [
    "# Expand the default stopwords list if necessary"
   ]
  },
  {
   "cell_type": "code",
   "execution_count": 17,
   "metadata": {},
   "outputs": [],
   "source": [
    "# Instantiate the lemmatizer\n",
    "lemmatizer = WordNetLemmatizer()"
   ]
  },
  {
   "cell_type": "code",
   "execution_count": 18,
   "metadata": {},
   "outputs": [],
   "source": [
    "# Complete the tokenizer function\n",
    "def tokenizer(text):\n",
    "    \"\"\"Tokenizes text.\"\"\"\n",
    "    # Create a list of the words\n",
    "    words = word_tokenize(text)\n",
    "    # Convert the words to lowercase\n",
    "    #words = list(filter(lambda w: w.lower(), words))\n",
    "    words = [word.lower() for word in words]\n",
    "    # Remove the punctuation\n",
    "    words = list(filter(lambda t: t not in punctuation, words))\n",
    "    # Remove the stopwords\n",
    "    words = list(filter(lambda t: t.lower() not in stop, words))\n",
    "    # Lemmatize Words into root words\n",
    "    tokens = [wnl.lemmatize(word) for word in words]\n",
    "    return tokens"
   ]
  },
  {
   "cell_type": "code",
   "execution_count": 19,
   "metadata": {},
   "outputs": [],
   "source": [
    "wnl = WordNetLemmatizer() \n",
    "stop = stopwords.words('english')\n",
    "stop.append(\"u\")\n",
    "stop.append(\"it'\")\n",
    "stop.append(\"'s\")\n",
    "stop.append(\"n't\")\n",
    "stop.append('…')\n",
    "stop.append(\"\\`\")\n",
    "stop.append('``')\n",
    "stop.append('char')\n",
    "stop.append(\"''\")\n",
    "stop = set(stop)"
   ]
  },
  {
   "cell_type": "code",
   "execution_count": 20,
   "metadata": {},
   "outputs": [
    {
     "data": {
      "text/plain": [
       "['weird',\n",
       " 'year',\n",
       " 'everyone',\n",
       " 'everything',\n",
       " '’',\n",
       " 'particularly',\n",
       " 'weird',\n",
       " 'year',\n",
       " 'ethereum',\n",
       " 'second-largest',\n",
       " 'blockchain',\n",
       " 'market',\n",
       " 'cap',\n",
       " 'largest',\n",
       " 'contributing',\n",
       " 'developer',\n",
       " 'al…',\n",
       " '+8276',\n",
       " 'char']"
      ]
     },
     "execution_count": 20,
     "metadata": {},
     "output_type": "execute_result"
    }
   ],
   "source": [
    "# Trying the function on a sample article\n",
    "tokenizer(ethereum_articles[\"articles\"][19]['content'])"
   ]
  },
  {
   "cell_type": "code",
   "execution_count": 21,
   "metadata": {},
   "outputs": [
    {
     "data": {
      "text/html": [
       "<div>\n",
       "<style scoped>\n",
       "    .dataframe tbody tr th:only-of-type {\n",
       "        vertical-align: middle;\n",
       "    }\n",
       "\n",
       "    .dataframe tbody tr th {\n",
       "        vertical-align: top;\n",
       "    }\n",
       "\n",
       "    .dataframe thead th {\n",
       "        text-align: right;\n",
       "    }\n",
       "</style>\n",
       "<table border=\"1\" class=\"dataframe\">\n",
       "  <thead>\n",
       "    <tr style=\"text-align: right;\">\n",
       "      <th></th>\n",
       "      <th>date</th>\n",
       "      <th>compound</th>\n",
       "      <th>positive</th>\n",
       "      <th>negative</th>\n",
       "      <th>neutral</th>\n",
       "      <th>text</th>\n",
       "      <th>tokens</th>\n",
       "    </tr>\n",
       "  </thead>\n",
       "  <tbody>\n",
       "    <tr>\n",
       "      <th>0</th>\n",
       "      <td>2020-07-17T19:30:40Z</td>\n",
       "      <td>0.0258</td>\n",
       "      <td>0.061</td>\n",
       "      <td>0.059</td>\n",
       "      <td>0.880</td>\n",
       "      <td>Just hackers burning up 0day like it’s a fire ...</td>\n",
       "      <td>[hacker, burning, 0day, like, ’, fire, sale, i...</td>\n",
       "    </tr>\n",
       "    <tr>\n",
       "      <th>1</th>\n",
       "      <td>2020-07-16T21:08:19Z</td>\n",
       "      <td>0.0772</td>\n",
       "      <td>0.038</td>\n",
       "      <td>0.000</td>\n",
       "      <td>0.962</td>\n",
       "      <td>Reuters had previously reported the FBI would ...</td>\n",
       "      <td>[reuters, previously, reported, fbi, would, la...</td>\n",
       "    </tr>\n",
       "    <tr>\n",
       "      <th>2</th>\n",
       "      <td>2020-07-16T20:24:47Z</td>\n",
       "      <td>0.0000</td>\n",
       "      <td>0.000</td>\n",
       "      <td>0.000</td>\n",
       "      <td>1.000</td>\n",
       "      <td>Most of these accounts tweeted some variant of...</td>\n",
       "      <td>[account, tweeted, variant, message, someone, ...</td>\n",
       "    </tr>\n",
       "    <tr>\n",
       "      <th>3</th>\n",
       "      <td>2020-07-18T04:14:10Z</td>\n",
       "      <td>0.5994</td>\n",
       "      <td>0.149</td>\n",
       "      <td>0.000</td>\n",
       "      <td>0.851</td>\n",
       "      <td>Our investigation and cooperation with law enf...</td>\n",
       "      <td>[investigation, cooperation, law, enforcement,...</td>\n",
       "    </tr>\n",
       "    <tr>\n",
       "      <th>4</th>\n",
       "      <td>2020-07-16T22:42:57Z</td>\n",
       "      <td>0.1280</td>\n",
       "      <td>0.049</td>\n",
       "      <td>0.000</td>\n",
       "      <td>0.951</td>\n",
       "      <td>Image copyrightAFP/REUTERSImage caption\\r\\n Ki...</td>\n",
       "      <td>[image, copyrightafp/reutersimage, caption, ki...</td>\n",
       "    </tr>\n",
       "  </tbody>\n",
       "</table>\n",
       "</div>"
      ],
      "text/plain": [
       "                   date  compound  positive  negative  neutral  \\\n",
       "0  2020-07-17T19:30:40Z    0.0258     0.061     0.059    0.880   \n",
       "1  2020-07-16T21:08:19Z    0.0772     0.038     0.000    0.962   \n",
       "2  2020-07-16T20:24:47Z    0.0000     0.000     0.000    1.000   \n",
       "3  2020-07-18T04:14:10Z    0.5994     0.149     0.000    0.851   \n",
       "4  2020-07-16T22:42:57Z    0.1280     0.049     0.000    0.951   \n",
       "\n",
       "                                                text  \\\n",
       "0  Just hackers burning up 0day like it’s a fire ...   \n",
       "1  Reuters had previously reported the FBI would ...   \n",
       "2  Most of these accounts tweeted some variant of...   \n",
       "3  Our investigation and cooperation with law enf...   \n",
       "4  Image copyrightAFP/REUTERSImage caption\\r\\n Ki...   \n",
       "\n",
       "                                              tokens  \n",
       "0  [hacker, burning, 0day, like, ’, fire, sale, i...  \n",
       "1  [reuters, previously, reported, fbi, would, la...  \n",
       "2  [account, tweeted, variant, message, someone, ...  \n",
       "3  [investigation, cooperation, law, enforcement,...  \n",
       "4  [image, copyrightafp/reutersimage, caption, ki...  "
      ]
     },
     "execution_count": 21,
     "metadata": {},
     "output_type": "execute_result"
    }
   ],
   "source": [
    "# Create a new tokens column for bitcoin\n",
    "# Recreate the bitcoin dataframe\n",
    "bitcoin_sentiments2 = []\n",
    "\n",
    "for article in bitcoin_articles[\"articles\"]:\n",
    "    try:\n",
    "        text = article[\"content\"]\n",
    "        tokens = tokenizer(article['content'])\n",
    "        date = article[\"publishedAt\"]\n",
    "        sentiment = analyzer.polarity_scores(text)\n",
    "        compound = sentiment[\"compound\"]\n",
    "        pos = sentiment[\"pos\"]\n",
    "        neu = sentiment[\"neu\"]\n",
    "        neg = sentiment[\"neg\"]\n",
    "        \n",
    "        bitcoin_sentiments2.append({\n",
    "            \"text\": text,\n",
    "            'tokens':tokens,\n",
    "            \"date\": date,\n",
    "            \"compound\": compound,\n",
    "            \"positive\": pos,\n",
    "            \"negative\": neg,\n",
    "            \"neutral\": neu\n",
    "            \n",
    "        })\n",
    "        \n",
    "    except AttributeError:\n",
    "        pass\n",
    "    \n",
    "# Create DataFrame\n",
    "bitcoin_df2 = pd.DataFrame(bitcoin_sentiments2)\n",
    "\n",
    "# Reorder DataFrame columns\n",
    "cols = [\"date\",\"compound\", \"positive\", \"negative\", \"neutral\", \"text\", \"tokens\"]\n",
    "bitcoin_df2 = bitcoin_df2[cols]\n",
    "\n",
    "bitcoin_df2.head()"
   ]
  },
  {
   "cell_type": "code",
   "execution_count": 39,
   "metadata": {},
   "outputs": [
    {
     "data": {
      "text/plain": [
       "str"
      ]
     },
     "execution_count": 39,
     "metadata": {},
     "output_type": "execute_result"
    }
   ],
   "source": [
    "type(ethereum_articles['articles'][0]['content'])"
   ]
  },
  {
   "cell_type": "code",
   "execution_count": 32,
   "metadata": {},
   "outputs": [
    {
     "data": {
      "text/plain": [
       "str"
      ]
     },
     "execution_count": 32,
     "metadata": {},
     "output_type": "execute_result"
    }
   ],
   "source": [
    "type(bitcoin_articles['articles'][0]['content'])"
   ]
  },
  {
   "cell_type": "code",
   "execution_count": 40,
   "metadata": {},
   "outputs": [
    {
     "data": {
      "text/html": [
       "<div>\n",
       "<style scoped>\n",
       "    .dataframe tbody tr th:only-of-type {\n",
       "        vertical-align: middle;\n",
       "    }\n",
       "\n",
       "    .dataframe tbody tr th {\n",
       "        vertical-align: top;\n",
       "    }\n",
       "\n",
       "    .dataframe thead th {\n",
       "        text-align: right;\n",
       "    }\n",
       "</style>\n",
       "<table border=\"1\" class=\"dataframe\">\n",
       "  <thead>\n",
       "    <tr style=\"text-align: right;\">\n",
       "      <th></th>\n",
       "      <th>date</th>\n",
       "      <th>compound</th>\n",
       "      <th>positive</th>\n",
       "      <th>negative</th>\n",
       "      <th>neutral</th>\n",
       "      <th>text</th>\n",
       "      <th>tokens</th>\n",
       "    </tr>\n",
       "  </thead>\n",
       "  <tbody>\n",
       "    <tr>\n",
       "      <th>0</th>\n",
       "      <td>2020-06-23T08:48:47Z</td>\n",
       "      <td>0.0000</td>\n",
       "      <td>0.000</td>\n",
       "      <td>0.0</td>\n",
       "      <td>1.000</td>\n",
       "      <td>Sparrow Exchange, a Bitcoin and Ethereum optio...</td>\n",
       "      <td>[sparrow, exchange, bitcoin, ethereum, option,...</td>\n",
       "    </tr>\n",
       "    <tr>\n",
       "      <th>1</th>\n",
       "      <td>2020-06-17T19:00:35Z</td>\n",
       "      <td>0.0000</td>\n",
       "      <td>0.000</td>\n",
       "      <td>0.0</td>\n",
       "      <td>1.000</td>\n",
       "      <td>Editor’s note:Andreessen HorowitzsCrypto Start...</td>\n",
       "      <td>[editor, ’, note, andreessen, horowitzscrypto,...</td>\n",
       "    </tr>\n",
       "    <tr>\n",
       "      <th>2</th>\n",
       "      <td>2020-06-25T04:30:00Z</td>\n",
       "      <td>0.0000</td>\n",
       "      <td>0.000</td>\n",
       "      <td>0.0</td>\n",
       "      <td>1.000</td>\n",
       "      <td>TL;DR: The Complete Cryptocurrency Investment ...</td>\n",
       "      <td>[tl, dr, complete, cryptocurrency, investment,...</td>\n",
       "    </tr>\n",
       "    <tr>\n",
       "      <th>3</th>\n",
       "      <td>2020-06-22T16:23:08Z</td>\n",
       "      <td>0.5574</td>\n",
       "      <td>0.137</td>\n",
       "      <td>0.0</td>\n",
       "      <td>0.863</td>\n",
       "      <td>Introducing Web3Torrent\\r\\nJune 18, 2020\\r\\nTo...</td>\n",
       "      <td>[introducing, web3torrent, june, 18, 2020, tod...</td>\n",
       "    </tr>\n",
       "    <tr>\n",
       "      <th>4</th>\n",
       "      <td>2020-07-01T15:00:17Z</td>\n",
       "      <td>0.2263</td>\n",
       "      <td>0.053</td>\n",
       "      <td>0.0</td>\n",
       "      <td>0.947</td>\n",
       "      <td>When the inventor of AWS Lambda, Tim Wagner, a...</td>\n",
       "      <td>[inventor, aws, lambda, tim, wagner, former, h...</td>\n",
       "    </tr>\n",
       "  </tbody>\n",
       "</table>\n",
       "</div>"
      ],
      "text/plain": [
       "                   date  compound  positive  negative  neutral  \\\n",
       "0  2020-06-23T08:48:47Z    0.0000     0.000       0.0    1.000   \n",
       "1  2020-06-17T19:00:35Z    0.0000     0.000       0.0    1.000   \n",
       "2  2020-06-25T04:30:00Z    0.0000     0.000       0.0    1.000   \n",
       "3  2020-06-22T16:23:08Z    0.5574     0.137       0.0    0.863   \n",
       "4  2020-07-01T15:00:17Z    0.2263     0.053       0.0    0.947   \n",
       "\n",
       "                                                text  \\\n",
       "0  Sparrow Exchange, a Bitcoin and Ethereum optio...   \n",
       "1  Editor’s note:Andreessen HorowitzsCrypto Start...   \n",
       "2  TL;DR: The Complete Cryptocurrency Investment ...   \n",
       "3  Introducing Web3Torrent\\r\\nJune 18, 2020\\r\\nTo...   \n",
       "4  When the inventor of AWS Lambda, Tim Wagner, a...   \n",
       "\n",
       "                                              tokens  \n",
       "0  [sparrow, exchange, bitcoin, ethereum, option,...  \n",
       "1  [editor, ’, note, andreessen, horowitzscrypto,...  \n",
       "2  [tl, dr, complete, cryptocurrency, investment,...  \n",
       "3  [introducing, web3torrent, june, 18, 2020, tod...  \n",
       "4  [inventor, aws, lambda, tim, wagner, former, h...  "
      ]
     },
     "execution_count": 40,
     "metadata": {},
     "output_type": "execute_result"
    }
   ],
   "source": [
    "# Create a new tokens column for ethereum\n",
    "# Recreate a new ethereum dataframe\n",
    "ethereum_sentiments2 = []\n",
    "\n",
    "for article in ethereum_articles[\"articles\"]:\n",
    "    try:\n",
    "        text = article[\"content\"]\n",
    "        if not isinstance(text, str):\n",
    "            continue\n",
    "        tokens = tokenizer(article['content'])\n",
    "        date = article[\"publishedAt\"]\n",
    "        sentiment = analyzer.polarity_scores(text)\n",
    "        compound = sentiment[\"compound\"]\n",
    "        pos = sentiment[\"pos\"]\n",
    "        neu = sentiment[\"neu\"]\n",
    "        neg = sentiment[\"neg\"]\n",
    "        \n",
    "        ethereum_sentiments2.append({\n",
    "            \"text\": text,\n",
    "            'tokens':tokens,\n",
    "            \"date\": date,\n",
    "            \"compound\": compound,\n",
    "            \"positive\": pos,\n",
    "            \"negative\": neg,\n",
    "            \"neutral\": neu\n",
    "            \n",
    "        })\n",
    "        \n",
    "    except AttributeError:\n",
    "        pass\n",
    "    \n",
    "# Create DataFrame\n",
    "ethereum_df2 = pd.DataFrame(ethereum_sentiments2)\n",
    "\n",
    "# Reorder DataFrame columns\n",
    "cols = [\"date\",\"compound\", \"positive\", \"negative\", \"neutral\", \"text\", \"tokens\"]\n",
    "ethereum_df2 = ethereum_df2[cols]\n",
    "\n",
    "ethereum_df2.head()"
   ]
  },
  {
   "cell_type": "markdown",
   "metadata": {},
   "source": [
    "---"
   ]
  },
  {
   "cell_type": "markdown",
   "metadata": {},
   "source": [
    "# NGrams and Frequency Analysis\n",
    "\n",
    "In this section you will look at the ngrams and word frequency for each coin. \n",
    "\n",
    "1. Use NLTK to produce the n-grams for N = 2. \n",
    "2. List the top 10 words for each coin. "
   ]
  },
  {
   "cell_type": "code",
   "execution_count": 45,
   "metadata": {},
   "outputs": [],
   "source": [
    "from collections import Counter\n",
    "from nltk import ngrams"
   ]
  },
  {
   "cell_type": "code",
   "execution_count": 46,
   "metadata": {},
   "outputs": [],
   "source": [
    "#bitcoin_articles['articles']"
   ]
  },
  {
   "cell_type": "code",
   "execution_count": 134,
   "metadata": {},
   "outputs": [],
   "source": [
    "# A new function processing an individual article\n",
    "def processtext(doc):\n",
    "    sw = set(stopwords.words('english'))\n",
    "    regex = re.compile(\"[^a-zA-Z ]\")\n",
    "    re_clean = regex.sub('', doc)\n",
    "    words = word_tokenize(re_clean)\n",
    "    lem = [lemmatizer.lemmatize(word) for word in words]\n",
    "    output = [word.lower() for word in lem if word.lower() not in sw]\n",
    "    return output"
   ]
  },
  {
   "cell_type": "markdown",
   "metadata": {},
   "source": [
    "### Bitcoin"
   ]
  },
  {
   "cell_type": "code",
   "execution_count": 149,
   "metadata": {},
   "outputs": [
    {
     "name": "stdout",
     "output_type": "stream",
     "text": [
      "['reuters', 'previously', 'reported', 'fbi', 'would', 'launch', 'investigation', 'hackthe', 'fbi', 'inquiry', 'one', 'multiple', 'investigation', 'incident', 'ha', 'drawn', 'scrutiny', 'number', 'char']\n"
     ]
    }
   ],
   "source": [
    "# Run the funtion with one individual function\n",
    "processed = processtext(bitcoin_articles['articles'][1]['content'])\n",
    "print(processed)"
   ]
  },
  {
   "cell_type": "code",
   "execution_count": 150,
   "metadata": {},
   "outputs": [
    {
     "name": "stdout",
     "output_type": "stream",
     "text": [
      "{'reuters': 1, 'previously': 1, 'reported': 1, 'fbi': 2, 'would': 1, 'launch': 1, 'investigation': 2, 'hackthe': 1, 'inquiry': 1, 'one': 1, 'multiple': 1, 'incident': 1, 'ha': 1, 'drawn': 1, 'scrutiny': 1, 'number': 1, 'char': 1}\n"
     ]
    }
   ],
   "source": [
    "# Displaying word counts\n",
    "word_counts = Counter(processed)\n",
    "print(dict(word_counts))"
   ]
  },
  {
   "cell_type": "code",
   "execution_count": 151,
   "metadata": {},
   "outputs": [
    {
     "name": "stdout",
     "output_type": "stream",
     "text": [
      "{('reuters', 'previously'): 1, ('previously', 'reported'): 1, ('reported', 'fbi'): 1, ('fbi', 'would'): 1, ('would', 'launch'): 1, ('launch', 'investigation'): 1, ('investigation', 'hackthe'): 1, ('hackthe', 'fbi'): 1, ('fbi', 'inquiry'): 1, ('inquiry', 'one'): 1, ('one', 'multiple'): 1, ('multiple', 'investigation'): 1, ('investigation', 'incident'): 1, ('incident', 'ha'): 1, ('ha', 'drawn'): 1, ('drawn', 'scrutiny'): 1, ('scrutiny', 'number'): 1, ('number', 'char'): 1}\n"
     ]
    }
   ],
   "source": [
    "# Generate the Bitcoin N-grams where N=2\n",
    "bigram_counts = Counter(ngrams(processed, n=2))\n",
    "print(dict(bigram_counts))"
   ]
  },
  {
   "cell_type": "code",
   "execution_count": 152,
   "metadata": {},
   "outputs": [
    {
     "name": "stdout",
     "output_type": "stream",
     "text": [
      "{'fbi': 2, 'investigation': 2, 'reuters': 1, 'previously': 1, 'reported': 1, 'would': 1, 'launch': 1, 'hackthe': 1, 'inquiry': 1, 'one': 1}\n"
     ]
    }
   ],
   "source": [
    "# The top 10 words for bitcoin article\n",
    "print(dict(word_counts.most_common(10)))"
   ]
  },
  {
   "cell_type": "markdown",
   "metadata": {},
   "source": [
    "_____"
   ]
  },
  {
   "cell_type": "markdown",
   "metadata": {},
   "source": [
    "### Ethereum"
   ]
  },
  {
   "cell_type": "code",
   "execution_count": 155,
   "metadata": {},
   "outputs": [
    {
     "name": "stdout",
     "output_type": "stream",
     "text": [
      "{'tldr': 1, 'complete': 1, 'cryptocurrency': 1, 'investment': 1, 'bundle': 1, 'sale': 1, 'june': 1, 'saving': 1, 'list': 1, 'priceif': 1, 'believe': 1, 'every': 1, 'plot': 1, 'point': 1, 'movie': 1, 'social': 1, 'network': 1, 'mark': 1, 'z': 1, 'char': 1}\n"
     ]
    }
   ],
   "source": [
    "# Run the funtion with one individual function\n",
    "processed2 = processtext(ethereum_articles['articles'][2]['content'])\n",
    "# Displaying word counts\n",
    "word_counts2 = Counter(processed2)\n",
    "print(dict(word_counts2))"
   ]
  },
  {
   "cell_type": "code",
   "execution_count": 156,
   "metadata": {},
   "outputs": [
    {
     "name": "stdout",
     "output_type": "stream",
     "text": [
      "{('tldr', 'complete'): 1, ('complete', 'cryptocurrency'): 1, ('cryptocurrency', 'investment'): 1, ('investment', 'bundle'): 1, ('bundle', 'sale'): 1, ('sale', 'june'): 1, ('june', 'saving'): 1, ('saving', 'list'): 1, ('list', 'priceif'): 1, ('priceif', 'believe'): 1, ('believe', 'every'): 1, ('every', 'plot'): 1, ('plot', 'point'): 1, ('point', 'movie'): 1, ('movie', 'social'): 1, ('social', 'network'): 1, ('network', 'mark'): 1, ('mark', 'z'): 1, ('z', 'char'): 1}\n"
     ]
    }
   ],
   "source": [
    "# Generate the Ethereum N-grams where N=2\n",
    "bigram_counts2 = Counter(ngrams(processed2, n=2))\n",
    "print(dict(bigram_counts2))"
   ]
  },
  {
   "cell_type": "code",
   "execution_count": 157,
   "metadata": {},
   "outputs": [
    {
     "name": "stdout",
     "output_type": "stream",
     "text": [
      "{'tldr': 1, 'complete': 1, 'cryptocurrency': 1, 'investment': 1, 'bundle': 1, 'sale': 1, 'june': 1, 'saving': 1, 'list': 1, 'priceif': 1}\n"
     ]
    }
   ],
   "source": [
    "# Get the top 10 words for Ethereum\n",
    "print(dict(word_counts2.most_common(10)))"
   ]
  },
  {
   "cell_type": "markdown",
   "metadata": {},
   "source": [
    "# Word Clouds\n",
    "\n",
    "In this section, you will generate word clouds for each coin to summarize the news for each coin"
   ]
  },
  {
   "cell_type": "code",
   "execution_count": 158,
   "metadata": {},
   "outputs": [],
   "source": [
    "from wordcloud import WordCloud\n",
    "import matplotlib.pyplot as plt\n",
    "plt.style.use('seaborn-whitegrid')\n",
    "import matplotlib as mpl\n",
    "mpl.rcParams['figure.figsize'] = [20.0, 10.0]"
   ]
  },
  {
   "cell_type": "code",
   "execution_count": 159,
   "metadata": {},
   "outputs": [],
   "source": [
    "#type(bitcoin_df2['tokens'])"
   ]
  },
  {
   "cell_type": "code",
   "execution_count": 160,
   "metadata": {},
   "outputs": [],
   "source": [
    "#for tokens in bitcoin_articles[\"articles\"]:\n",
    "    #input_text = tokenizer(tokens['content'])\n",
    "    #if not isinstance(input_text, str):\n",
    "        #continue\n",
    "#input_text"
   ]
  },
  {
   "cell_type": "code",
   "execution_count": 161,
   "metadata": {},
   "outputs": [],
   "source": [
    "# A new function to process an individual article to put in wordcloud\n",
    "def process_text(doc):\n",
    "    sw = set(stopwords.words('english'))\n",
    "    regex = re.compile(\"[^a-zA-Z ]\")\n",
    "    re_clean = regex.sub('', doc)\n",
    "    words = word_tokenize(re_clean)\n",
    "    lem = [lemmatizer.lemmatize(word) for word in words]\n",
    "    output = [word.lower() for word in lem if word.lower() not in sw]\n",
    "    return ' '.join(output)"
   ]
  },
  {
   "cell_type": "code",
   "execution_count": 163,
   "metadata": {},
   "outputs": [
    {
     "data": {
      "text/plain": [
       "'Just hackers burning up 0day like it’s a fire sale\\r\\nImagine getting the keys to the Twitter kingdom -- access to all the account admin panels in the world. What would you do? You could grab high-valu… [+8860 chars]'"
      ]
     },
     "execution_count": 163,
     "metadata": {},
     "output_type": "execute_result"
    }
   ],
   "source": [
    "# Displaying a sample article\n",
    "bitcoin_articles['articles'][0]['content']"
   ]
  },
  {
   "cell_type": "code",
   "execution_count": 164,
   "metadata": {},
   "outputs": [],
   "source": [
    "input_text_bit = process_text(bitcoin_articles['articles'][2]['content'])"
   ]
  },
  {
   "cell_type": "code",
   "execution_count": 165,
   "metadata": {},
   "outputs": [
    {
     "data": {
      "text/plain": [
       "'account tweeted variant message someone send bitcoin address specified tweet minute window account owner would return doubl char'"
      ]
     },
     "execution_count": 165,
     "metadata": {},
     "output_type": "execute_result"
    }
   ],
   "source": [
    "input_text_bit"
   ]
  },
  {
   "cell_type": "code",
   "execution_count": 166,
   "metadata": {},
   "outputs": [
    {
     "data": {
      "text/plain": [
       "<matplotlib.image.AxesImage at 0x24f2da6fdc8>"
      ]
     },
     "execution_count": 166,
     "metadata": {},
     "output_type": "execute_result"
    },
    {
     "data": {
      "image/png": "[encoded data removed]",
      "text/plain": [
       "<Figure size 1440x720 with 1 Axes>"
      ]
     },
     "metadata": {},
     "output_type": "display_data"
    }
   ],
   "source": [
    "# Generate the Bitcoin word cloud\n",
    "#big_string = ' '.join(bitcoin_articles)\n",
    "#input_text = tokenizer(big_string)\n",
    "wc = WordCloud().generate(input_text_bit)\n",
    "plt.imshow(wc)"
   ]
  },
  {
   "cell_type": "code",
   "execution_count": 167,
   "metadata": {},
   "outputs": [
    {
     "data": {
      "text/plain": [
       "<matplotlib.image.AxesImage at 0x24f2faa0e88>"
      ]
     },
     "execution_count": 167,
     "metadata": {},
     "output_type": "execute_result"
    },
    {
     "data": {
      "image/png": "[encoded data removed]",
      "text/plain": [
       "<Figure size 1440x720 with 1 Axes>"
      ]
     },
     "metadata": {},
     "output_type": "display_data"
    }
   ],
   "source": [
    "# Generate the Ethereum word cloud\n",
    "input_text_eth = process_text(ethereum_articles['articles'][0]['content'])\n",
    "wc = WordCloud().generate(input_text_eth)\n",
    "plt.imshow(wc)"
   ]
  },
  {
   "cell_type": "markdown",
   "metadata": {},
   "source": [
    "# Named Entity Recognition\n",
    "\n",
    "In this section, you will build a named entity recognition model for both coins and visualize the tags using SpaCy."
   ]
  },
  {
   "cell_type": "code",
   "execution_count": 97,
   "metadata": {},
   "outputs": [],
   "source": [
    "import spacy\n",
    "from spacy import displacy"
   ]
  },
  {
   "cell_type": "code",
   "execution_count": 98,
   "metadata": {},
   "outputs": [],
   "source": [
    "# Optional - download a language model for SpaCy\n",
    "# !python -m spacy download en_core_web_sm"
   ]
  },
  {
   "cell_type": "code",
   "execution_count": 99,
   "metadata": {},
   "outputs": [],
   "source": [
    "# Load the spaCy model\n",
    "nlp = spacy.load('en_core_web_sm')"
   ]
  },
  {
   "cell_type": "markdown",
   "metadata": {},
   "source": [
    "## Bitcoin NER"
   ]
  },
  {
   "cell_type": "code",
   "execution_count": 170,
   "metadata": {},
   "outputs": [
    {
     "data": {
      "text/plain": [
       "['Just hackers burning up 0day like it’s a fire sale\\r\\nImagine getting the keys to the Twitter kingdom -- access to all the account admin panels in the world. What would you do? You could grab high-valu… [+8860 chars]',\n",
       " 'Reuters had previously reported the FBI would launch an investigation into the hack.\\r\\nThe FBI inquiry is now one of multiple investigations into the incident, which has drawn scrutiny from a number o… [+966 chars]',\n",
       " 'Most of these accounts tweeted some variant of the same message: If someone were to send Bitcoin to the address specified in the tweets during a 30-minute window, the account owner would return doubl… [+3388 chars]',\n",
       " 'Our investigation and cooperation with law enforcement continues, and we remain committed to sharing any updates here. More to come via @TwitterSupport as our investigation continues.\\r\\n— Twitter Supp… [+1321 chars]',\n",
       " \"Image copyrightAFP/REUTERSImage caption\\r\\n Kim Kardashian West, Kanye West, Elon Musk, Bill Gates and Barack Obama were all 'hacked'\\r\\nThe FBI has launched an investigation after hackers hijacked Twitt… [+6470 chars]\",\n",
       " 'A number of high-profile Twitter accounts were simultaneously hacked on Wednesday by attackers who used the accounts some with millions of followers to spread a cryptocurrency scam.\\r\\n@bitcoin, @rippl… [+2161 chars]',\n",
       " \"TL;DR: The Complete Cryptocurrency Investment bundle is on sale for £19.21 as of June 25, saving you 94% on list price.\\r\\nIf we're to believe every plot point from the movie The Social Network, Mark Z… [+2756 chars]\",\n",
       " 'A gigantic breach of Twitters security yesterday caused various high-profile accountsfrom Bill Gates, to Barack Obama, to even the ever-silent Appleto tweet out scams and sucker people into sending m… [+7333 chars]',\n",
       " 'Image copyrightReuters / AFP\\r\\nTwitter says hackers manipulated staff and used their credentials to access internal systems in a cyber-attack of celebrity accounts earlier this week.\\r\\nThe hackers had … [+4380 chars]',\n",
       " 'Sparrow Exchange, a Bitcoin and Ethereum options trading platform based in Singapore, announced today it has raised $3.5 million in Series A funding.\\r\\nThe round was led by HDR Group, the owner of cry… [+833 chars]',\n",
       " '2020 sure does suck so far. But the year might not yet be a complete wash.\\r\\nJohn McAfee\\r\\n still has to eat his dick on live television.\\r\\nThree years ago on this date, on July 17, 2017, McAfee, the ec… [+3653 chars]',\n",
       " 'San Francisco (CNN Business)Twitter(TWTR) accounts belonging to Joe Biden, Bill Gates, Elon Musk and Apple, among other prominent handles, were compromised on Wednesday and posted tweets that appeare… [+440 chars]',\n",
       " 'Something normal happened on Twitter earlier this afternoon. Someone claiming to be Elon Musk started tweeting an obvious scam to entice his loyal bootlickers to send bitcoin to a random cryptocurren… [+1211 chars]',\n",
       " 'Twitter spectacularly shit the bed on Wednesday evening as it scrambled to stamp out a widespread hack of high-profile accounts.\\r\\nSoon after 6 pm ET, several verified Twitter accounts were blocked fr… [+1465 chars]',\n",
       " \"The threat of ransomware may seem ubiquitous, but there haven't been too many strains tailored specifically to infect Apple's Mac computers since the first full-fledged Mac ransomware surfaced only f… [+3731 chars]\",\n",
       " \"In case you haven't heard, Barack Obama, Joe Biden, Elon Musk, Kanye West, Apple, and other public figures and companies were victims of a major hack by scammers asking for bitcoin.\\r\\nSo, we thought t… [+3082 chars]\",\n",
       " 'The biggest news on Wednesday was the Twitter hack that saw the accounts of finance firms and major public figures, from Barack Obama and Joe Biden to Elon Musk and Kim Kardashian, tweeting out links… [+1374 chars]',\n",
       " 'In the days since we saw some of Twitters highest-profile accounts taken over for what appears to be a massive cryptocurrency scam, weve come up with more questions than weve gotten answers. How, exa… [+2490 chars]',\n",
       " 'WASHINGTON (Reuters) - The official Twitter accounts of billionaires Bill Gates and Elon Musk were apparently hacked as both accounts sought bitcoin donations on Wednesday. \\r\\nThe tweets on both accou… [+154 chars]',\n",
       " 'Now that were getting closer to Nvidias anticipated September 2020 release date of its next-generation GeForce RTX 30 Ampere graphics cards, rumor has it that the company is already ceasing productio… [+4303 chars]']"
      ]
     },
     "execution_count": 170,
     "metadata": {},
     "output_type": "execute_result"
    }
   ],
   "source": [
    "# Concatenate all of the bitcoin text together\n",
    "doc = []\n",
    "for x in bitcoin_articles['articles']:\n",
    "    text = x['content']\n",
    "    doc.append(text)\n",
    "doc"
   ]
  },
  {
   "cell_type": "code",
   "execution_count": 177,
   "metadata": {},
   "outputs": [
    {
     "data": {
      "text/plain": [
       "\"Just hackers burning up 0day like it’s a fire sale\\r\\nImagine getting the keys to the Twitter kingdom -- access to all the account admin panels in the world. What would you do? You could grab high-valu… [+8860 chars]Reuters had previously reported the FBI would launch an investigation into the hack.\\r\\nThe FBI inquiry is now one of multiple investigations into the incident, which has drawn scrutiny from a number o… [+966 chars]Most of these accounts tweeted some variant of the same message: If someone were to send Bitcoin to the address specified in the tweets during a 30-minute window, the account owner would return doubl… [+3388 chars]Our investigation and cooperation with law enforcement continues, and we remain committed to sharing any updates here. More to come via @TwitterSupport as our investigation continues.\\r\\n— Twitter Supp… [+1321 chars]Image copyrightAFP/REUTERSImage caption\\r\\n Kim Kardashian West, Kanye West, Elon Musk, Bill Gates and Barack Obama were all 'hacked'\\r\\nThe FBI has launched an investigation after hackers hijacked Twitt… [+6470 chars]A number of high-profile Twitter accounts were simultaneously hacked on Wednesday by attackers who used the accounts some with millions of followers to spread a cryptocurrency scam.\\r\\n@bitcoin, @rippl… [+2161 chars]TL;DR: The Complete Cryptocurrency Investment bundle is on sale for £19.21 as of June 25, saving you 94% on list price.\\r\\nIf we're to believe every plot point from the movie The Social Network, Mark Z… [+2756 chars]A gigantic breach of Twitters security yesterday caused various high-profile accountsfrom Bill Gates, to Barack Obama, to even the ever-silent Appleto tweet out scams and sucker people into sending m… [+7333 chars]Image copyrightReuters / AFP\\r\\nTwitter says hackers manipulated staff and used their credentials to access internal systems in a cyber-attack of celebrity accounts earlier this week.\\r\\nThe hackers had … [+4380 chars]Sparrow Exchange, a Bitcoin and Ethereum options trading platform based in Singapore, announced today it has raised $3.5 million in Series A funding.\\r\\nThe round was led by HDR Group, the owner of cry… [+833 chars]2020 sure does suck so far. But the year might not yet be a complete wash.\\r\\nJohn McAfee\\r\\n still has to eat his dick on live television.\\r\\nThree years ago on this date, on July 17, 2017, McAfee, the ec… [+3653 chars]San Francisco (CNN Business)Twitter(TWTR) accounts belonging to Joe Biden, Bill Gates, Elon Musk and Apple, among other prominent handles, were compromised on Wednesday and posted tweets that appeare… [+440 chars]Something normal happened on Twitter earlier this afternoon. Someone claiming to be Elon Musk started tweeting an obvious scam to entice his loyal bootlickers to send bitcoin to a random cryptocurren… [+1211 chars]Twitter spectacularly shit the bed on Wednesday evening as it scrambled to stamp out a widespread hack of high-profile accounts.\\r\\nSoon after 6 pm ET, several verified Twitter accounts were blocked fr… [+1465 chars]The threat of ransomware may seem ubiquitous, but there haven't been too many strains tailored specifically to infect Apple's Mac computers since the first full-fledged Mac ransomware surfaced only f… [+3731 chars]In case you haven't heard, Barack Obama, Joe Biden, Elon Musk, Kanye West, Apple, and other public figures and companies were victims of a major hack by scammers asking for bitcoin.\\r\\nSo, we thought t… [+3082 chars]The biggest news on Wednesday was the Twitter hack that saw the accounts of finance firms and major public figures, from Barack Obama and Joe Biden to Elon Musk and Kim Kardashian, tweeting out links… [+1374 chars]In the days since we saw some of Twitters highest-profile accounts taken over for what appears to be a massive cryptocurrency scam, weve come up with more questions than weve gotten answers. How, exa… [+2490 chars]WASHINGTON (Reuters) - The official Twitter accounts of billionaires Bill Gates and Elon Musk were apparently hacked as both accounts sought bitcoin donations on Wednesday. \\r\\nThe tweets on both accou… [+154 chars]Now that were getting closer to Nvidias anticipated September 2020 release date of its next-generation GeForce RTX 30 Ampere graphics cards, rumor has it that the company is already ceasing productio… [+4303 chars]\""
      ]
     },
     "execution_count": 177,
     "metadata": {},
     "output_type": "execute_result"
    }
   ],
   "source": [
    "# Convert the doc list to string so it works in using Spacy\n",
    "str_doc = ''.join(doc)\n",
    "str_doc"
   ]
  },
  {
   "cell_type": "code",
   "execution_count": 178,
   "metadata": {},
   "outputs": [],
   "source": [
    "# Run the NER processor on all of the text\n",
    "doc2 = nlp(str_doc)"
   ]
  },
  {
   "cell_type": "code",
   "execution_count": 179,
   "metadata": {},
   "outputs": [
    {
     "data": {
      "text/html": [
       "<span class=\"tex2jax_ignore\"><div class=\"entities\" style=\"line-height: 2.5; direction: ltr\">Just hackers burning up 0day like it’s a fire sale\r",
       "</br>Imagine getting the keys to the \n",
       "<mark class=\"entity\" style=\"background: #7aecec; padding: 0.45em 0.6em; margin: 0 0.25em; line-height: 1; border-radius: 0.35em;\">\n",
       "    Twitter\n",
       "    <span style=\"font-size: 0.8em; font-weight: bold; line-height: 1; border-radius: 0.35em; text-transform: uppercase; vertical-align: middle; margin-left: 0.5rem\">ORG</span>\n",
       "</mark>\n",
       " kingdom -- access to all the account admin panels in the world. What would you do? You could grab high-valu… [+8860 chars]Reuters had previously reported the \n",
       "<mark class=\"entity\" style=\"background: #7aecec; padding: 0.45em 0.6em; margin: 0 0.25em; line-height: 1; border-radius: 0.35em;\">\n",
       "    FBI\n",
       "    <span style=\"font-size: 0.8em; font-weight: bold; line-height: 1; border-radius: 0.35em; text-transform: uppercase; vertical-align: middle; margin-left: 0.5rem\">ORG</span>\n",
       "</mark>\n",
       " would launch an investigation into the hack.\r",
       "</br>The \n",
       "<mark class=\"entity\" style=\"background: #7aecec; padding: 0.45em 0.6em; margin: 0 0.25em; line-height: 1; border-radius: 0.35em;\">\n",
       "    FBI\n",
       "    <span style=\"font-size: 0.8em; font-weight: bold; line-height: 1; border-radius: 0.35em; text-transform: uppercase; vertical-align: middle; margin-left: 0.5rem\">ORG</span>\n",
       "</mark>\n",
       " inquiry is now \n",
       "<mark class=\"entity\" style=\"background: #e4e7d2; padding: 0.45em 0.6em; margin: 0 0.25em; line-height: 1; border-radius: 0.35em;\">\n",
       "    one\n",
       "    <span style=\"font-size: 0.8em; font-weight: bold; line-height: 1; border-radius: 0.35em; text-transform: uppercase; vertical-align: middle; margin-left: 0.5rem\">CARDINAL</span>\n",
       "</mark>\n",
       " of multiple investigations into the incident, which has drawn scrutiny from a number o… [+966 chars]Most of these accounts tweeted some variant of the same message: If someone were to send \n",
       "<mark class=\"entity\" style=\"background: #feca74; padding: 0.45em 0.6em; margin: 0 0.25em; line-height: 1; border-radius: 0.35em;\">\n",
       "    Bitcoin\n",
       "    <span style=\"font-size: 0.8em; font-weight: bold; line-height: 1; border-radius: 0.35em; text-transform: uppercase; vertical-align: middle; margin-left: 0.5rem\">GPE</span>\n",
       "</mark>\n",
       " to the address specified in the tweets during a \n",
       "<mark class=\"entity\" style=\"background: #bfe1d9; padding: 0.45em 0.6em; margin: 0 0.25em; line-height: 1; border-radius: 0.35em;\">\n",
       "    30-minute\n",
       "    <span style=\"font-size: 0.8em; font-weight: bold; line-height: 1; border-radius: 0.35em; text-transform: uppercase; vertical-align: middle; margin-left: 0.5rem\">TIME</span>\n",
       "</mark>\n",
       " window, the account owner would return doubl… [+3388 chars]Our investigation and cooperation with law enforcement continues, and we remain committed to sharing any updates here. More to come via @TwitterSupport as our investigation continues.\r",
       "</br>— Twitter Supp… [+1321 chars]Image copyrightAFP/REUTERSImage caption\r",
       "</br> Kim Kardashian West, \n",
       "<mark class=\"entity\" style=\"background: #feca74; padding: 0.45em 0.6em; margin: 0 0.25em; line-height: 1; border-radius: 0.35em;\">\n",
       "    Kanye West\n",
       "    <span style=\"font-size: 0.8em; font-weight: bold; line-height: 1; border-radius: 0.35em; text-transform: uppercase; vertical-align: middle; margin-left: 0.5rem\">GPE</span>\n",
       "</mark>\n",
       ", \n",
       "<mark class=\"entity\" style=\"background: #7aecec; padding: 0.45em 0.6em; margin: 0 0.25em; line-height: 1; border-radius: 0.35em;\">\n",
       "    Elon Musk\n",
       "    <span style=\"font-size: 0.8em; font-weight: bold; line-height: 1; border-radius: 0.35em; text-transform: uppercase; vertical-align: middle; margin-left: 0.5rem\">ORG</span>\n",
       "</mark>\n",
       ", \n",
       "<mark class=\"entity\" style=\"background: #aa9cfc; padding: 0.45em 0.6em; margin: 0 0.25em; line-height: 1; border-radius: 0.35em;\">\n",
       "    Bill Gates\n",
       "    <span style=\"font-size: 0.8em; font-weight: bold; line-height: 1; border-radius: 0.35em; text-transform: uppercase; vertical-align: middle; margin-left: 0.5rem\">PERSON</span>\n",
       "</mark>\n",
       " and \n",
       "<mark class=\"entity\" style=\"background: #aa9cfc; padding: 0.45em 0.6em; margin: 0 0.25em; line-height: 1; border-radius: 0.35em;\">\n",
       "    Barack Obama\n",
       "    <span style=\"font-size: 0.8em; font-weight: bold; line-height: 1; border-radius: 0.35em; text-transform: uppercase; vertical-align: middle; margin-left: 0.5rem\">PERSON</span>\n",
       "</mark>\n",
       " were all 'hacked'\r",
       "</br>The \n",
       "<mark class=\"entity\" style=\"background: #7aecec; padding: 0.45em 0.6em; margin: 0 0.25em; line-height: 1; border-radius: 0.35em;\">\n",
       "    FBI\n",
       "    <span style=\"font-size: 0.8em; font-weight: bold; line-height: 1; border-radius: 0.35em; text-transform: uppercase; vertical-align: middle; margin-left: 0.5rem\">ORG</span>\n",
       "</mark>\n",
       " has launched an investigation after hackers hijacked \n",
       "<mark class=\"entity\" style=\"background: #aa9cfc; padding: 0.45em 0.6em; margin: 0 0.25em; line-height: 1; border-radius: 0.35em;\">\n",
       "    Twitt\n",
       "    <span style=\"font-size: 0.8em; font-weight: bold; line-height: 1; border-radius: 0.35em; text-transform: uppercase; vertical-align: middle; margin-left: 0.5rem\">PERSON</span>\n",
       "</mark>\n",
       "… [+6470 chars]A number of high-profile \n",
       "<mark class=\"entity\" style=\"background: #aa9cfc; padding: 0.45em 0.6em; margin: 0 0.25em; line-height: 1; border-radius: 0.35em;\">\n",
       "    Twitter\n",
       "    <span style=\"font-size: 0.8em; font-weight: bold; line-height: 1; border-radius: 0.35em; text-transform: uppercase; vertical-align: middle; margin-left: 0.5rem\">PERSON</span>\n",
       "</mark>\n",
       " accounts were simultaneously hacked on \n",
       "<mark class=\"entity\" style=\"background: #bfe1d9; padding: 0.45em 0.6em; margin: 0 0.25em; line-height: 1; border-radius: 0.35em;\">\n",
       "    Wednesday\n",
       "    <span style=\"font-size: 0.8em; font-weight: bold; line-height: 1; border-radius: 0.35em; text-transform: uppercase; vertical-align: middle; margin-left: 0.5rem\">DATE</span>\n",
       "</mark>\n",
       " by attackers who used the accounts some with \n",
       "<mark class=\"entity\" style=\"background: #e4e7d2; padding: 0.45em 0.6em; margin: 0 0.25em; line-height: 1; border-radius: 0.35em;\">\n",
       "    millions\n",
       "    <span style=\"font-size: 0.8em; font-weight: bold; line-height: 1; border-radius: 0.35em; text-transform: uppercase; vertical-align: middle; margin-left: 0.5rem\">CARDINAL</span>\n",
       "</mark>\n",
       " of followers to spread a cryptocurrency scam.\r",
       "</br>@bitcoin, \n",
       "<mark class=\"entity\" style=\"background: #7aecec; padding: 0.45em 0.6em; margin: 0 0.25em; line-height: 1; border-radius: 0.35em;\">\n",
       "    @rippl\n",
       "    <span style=\"font-size: 0.8em; font-weight: bold; line-height: 1; border-radius: 0.35em; text-transform: uppercase; vertical-align: middle; margin-left: 0.5rem\">ORG</span>\n",
       "</mark>\n",
       "… [+2161 chars]TL;DR: The Complete Cryptocurrency Investment bundle is on sale for £\n",
       "<mark class=\"entity\" style=\"background: #e4e7d2; padding: 0.45em 0.6em; margin: 0 0.25em; line-height: 1; border-radius: 0.35em;\">\n",
       "    19.21\n",
       "    <span style=\"font-size: 0.8em; font-weight: bold; line-height: 1; border-radius: 0.35em; text-transform: uppercase; vertical-align: middle; margin-left: 0.5rem\">MONEY</span>\n",
       "</mark>\n",
       " as of \n",
       "<mark class=\"entity\" style=\"background: #bfe1d9; padding: 0.45em 0.6em; margin: 0 0.25em; line-height: 1; border-radius: 0.35em;\">\n",
       "    June 25\n",
       "    <span style=\"font-size: 0.8em; font-weight: bold; line-height: 1; border-radius: 0.35em; text-transform: uppercase; vertical-align: middle; margin-left: 0.5rem\">DATE</span>\n",
       "</mark>\n",
       ", saving you \n",
       "<mark class=\"entity\" style=\"background: #e4e7d2; padding: 0.45em 0.6em; margin: 0 0.25em; line-height: 1; border-radius: 0.35em;\">\n",
       "    94%\n",
       "    <span style=\"font-size: 0.8em; font-weight: bold; line-height: 1; border-radius: 0.35em; text-transform: uppercase; vertical-align: middle; margin-left: 0.5rem\">PERCENT</span>\n",
       "</mark>\n",
       " on list price.\r",
       "</br>If we're to believe every plot point from the movie \n",
       "<mark class=\"entity\" style=\"background: #7aecec; padding: 0.45em 0.6em; margin: 0 0.25em; line-height: 1; border-radius: 0.35em;\">\n",
       "    The Social Network\n",
       "    <span style=\"font-size: 0.8em; font-weight: bold; line-height: 1; border-radius: 0.35em; text-transform: uppercase; vertical-align: middle; margin-left: 0.5rem\">ORG</span>\n",
       "</mark>\n",
       ", \n",
       "<mark class=\"entity\" style=\"background: #aa9cfc; padding: 0.45em 0.6em; margin: 0 0.25em; line-height: 1; border-radius: 0.35em;\">\n",
       "    Mark Z\n",
       "    <span style=\"font-size: 0.8em; font-weight: bold; line-height: 1; border-radius: 0.35em; text-transform: uppercase; vertical-align: middle; margin-left: 0.5rem\">PERSON</span>\n",
       "</mark>\n",
       "… [+2756 chars]A gigantic breach of \n",
       "<mark class=\"entity\" style=\"background: #c887fb; padding: 0.45em 0.6em; margin: 0 0.25em; line-height: 1; border-radius: 0.35em;\">\n",
       "    Twitters\n",
       "    <span style=\"font-size: 0.8em; font-weight: bold; line-height: 1; border-radius: 0.35em; text-transform: uppercase; vertical-align: middle; margin-left: 0.5rem\">NORP</span>\n",
       "</mark>\n",
       " security \n",
       "<mark class=\"entity\" style=\"background: #bfe1d9; padding: 0.45em 0.6em; margin: 0 0.25em; line-height: 1; border-radius: 0.35em;\">\n",
       "    yesterday\n",
       "    <span style=\"font-size: 0.8em; font-weight: bold; line-height: 1; border-radius: 0.35em; text-transform: uppercase; vertical-align: middle; margin-left: 0.5rem\">DATE</span>\n",
       "</mark>\n",
       " caused various high-profile accountsfrom \n",
       "<mark class=\"entity\" style=\"background: #aa9cfc; padding: 0.45em 0.6em; margin: 0 0.25em; line-height: 1; border-radius: 0.35em;\">\n",
       "    Bill Gates\n",
       "    <span style=\"font-size: 0.8em; font-weight: bold; line-height: 1; border-radius: 0.35em; text-transform: uppercase; vertical-align: middle; margin-left: 0.5rem\">PERSON</span>\n",
       "</mark>\n",
       ", to \n",
       "<mark class=\"entity\" style=\"background: #aa9cfc; padding: 0.45em 0.6em; margin: 0 0.25em; line-height: 1; border-radius: 0.35em;\">\n",
       "    Barack Obama\n",
       "    <span style=\"font-size: 0.8em; font-weight: bold; line-height: 1; border-radius: 0.35em; text-transform: uppercase; vertical-align: middle; margin-left: 0.5rem\">PERSON</span>\n",
       "</mark>\n",
       ", to even the ever-silent \n",
       "<mark class=\"entity\" style=\"background: #aa9cfc; padding: 0.45em 0.6em; margin: 0 0.25em; line-height: 1; border-radius: 0.35em;\">\n",
       "    Appleto\n",
       "    <span style=\"font-size: 0.8em; font-weight: bold; line-height: 1; border-radius: 0.35em; text-transform: uppercase; vertical-align: middle; margin-left: 0.5rem\">PERSON</span>\n",
       "</mark>\n",
       " tweet out scams and sucker people into sending m… [+7333 chars]Image copyrightReuters / AFP\r",
       "</br>\n",
       "<mark class=\"entity\" style=\"background: #7aecec; padding: 0.45em 0.6em; margin: 0 0.25em; line-height: 1; border-radius: 0.35em;\">\n",
       "    Twitter\n",
       "    <span style=\"font-size: 0.8em; font-weight: bold; line-height: 1; border-radius: 0.35em; text-transform: uppercase; vertical-align: middle; margin-left: 0.5rem\">ORG</span>\n",
       "</mark>\n",
       " says hackers manipulated staff and used their credentials to access internal systems in a cyber-attack of celebrity accounts \n",
       "<mark class=\"entity\" style=\"background: #bfe1d9; padding: 0.45em 0.6em; margin: 0 0.25em; line-height: 1; border-radius: 0.35em;\">\n",
       "    earlier this week\n",
       "    <span style=\"font-size: 0.8em; font-weight: bold; line-height: 1; border-radius: 0.35em; text-transform: uppercase; vertical-align: middle; margin-left: 0.5rem\">DATE</span>\n",
       "</mark>\n",
       ".\r",
       "</br>The hackers had … [+4380 chars]Sparrow Exchange, a \n",
       "<mark class=\"entity\" style=\"background: #feca74; padding: 0.45em 0.6em; margin: 0 0.25em; line-height: 1; border-radius: 0.35em;\">\n",
       "    Bitcoin\n",
       "    <span style=\"font-size: 0.8em; font-weight: bold; line-height: 1; border-radius: 0.35em; text-transform: uppercase; vertical-align: middle; margin-left: 0.5rem\">GPE</span>\n",
       "</mark>\n",
       " and Ethereum options trading platform based in \n",
       "<mark class=\"entity\" style=\"background: #feca74; padding: 0.45em 0.6em; margin: 0 0.25em; line-height: 1; border-radius: 0.35em;\">\n",
       "    Singapore\n",
       "    <span style=\"font-size: 0.8em; font-weight: bold; line-height: 1; border-radius: 0.35em; text-transform: uppercase; vertical-align: middle; margin-left: 0.5rem\">GPE</span>\n",
       "</mark>\n",
       ", announced \n",
       "<mark class=\"entity\" style=\"background: #bfe1d9; padding: 0.45em 0.6em; margin: 0 0.25em; line-height: 1; border-radius: 0.35em;\">\n",
       "    today\n",
       "    <span style=\"font-size: 0.8em; font-weight: bold; line-height: 1; border-radius: 0.35em; text-transform: uppercase; vertical-align: middle; margin-left: 0.5rem\">DATE</span>\n",
       "</mark>\n",
       " it has raised \n",
       "<mark class=\"entity\" style=\"background: #e4e7d2; padding: 0.45em 0.6em; margin: 0 0.25em; line-height: 1; border-radius: 0.35em;\">\n",
       "    $3.5 million\n",
       "    <span style=\"font-size: 0.8em; font-weight: bold; line-height: 1; border-radius: 0.35em; text-transform: uppercase; vertical-align: middle; margin-left: 0.5rem\">MONEY</span>\n",
       "</mark>\n",
       " in Series A funding.\r",
       "</br>The round was led by \n",
       "<mark class=\"entity\" style=\"background: #7aecec; padding: 0.45em 0.6em; margin: 0 0.25em; line-height: 1; border-radius: 0.35em;\">\n",
       "    HDR Group\n",
       "    <span style=\"font-size: 0.8em; font-weight: bold; line-height: 1; border-radius: 0.35em; text-transform: uppercase; vertical-align: middle; margin-left: 0.5rem\">ORG</span>\n",
       "</mark>\n",
       ", the owner of cry… [+833 chars]2020 sure does suck so far. But \n",
       "<mark class=\"entity\" style=\"background: #bfe1d9; padding: 0.45em 0.6em; margin: 0 0.25em; line-height: 1; border-radius: 0.35em;\">\n",
       "    the year\n",
       "    <span style=\"font-size: 0.8em; font-weight: bold; line-height: 1; border-radius: 0.35em; text-transform: uppercase; vertical-align: middle; margin-left: 0.5rem\">DATE</span>\n",
       "</mark>\n",
       " might not yet be a complete wash.\r",
       "</br>\n",
       "<mark class=\"entity\" style=\"background: #aa9cfc; padding: 0.45em 0.6em; margin: 0 0.25em; line-height: 1; border-radius: 0.35em;\">\n",
       "    John McAfee\r\n",
       " \n",
       "    <span style=\"font-size: 0.8em; font-weight: bold; line-height: 1; border-radius: 0.35em; text-transform: uppercase; vertical-align: middle; margin-left: 0.5rem\">PERSON</span>\n",
       "</mark>\n",
       "still has to eat his dick on live television.\r",
       "</br>\n",
       "<mark class=\"entity\" style=\"background: #bfe1d9; padding: 0.45em 0.6em; margin: 0 0.25em; line-height: 1; border-radius: 0.35em;\">\n",
       "    Three years ago\n",
       "    <span style=\"font-size: 0.8em; font-weight: bold; line-height: 1; border-radius: 0.35em; text-transform: uppercase; vertical-align: middle; margin-left: 0.5rem\">DATE</span>\n",
       "</mark>\n",
       " on \n",
       "<mark class=\"entity\" style=\"background: #bfe1d9; padding: 0.45em 0.6em; margin: 0 0.25em; line-height: 1; border-radius: 0.35em;\">\n",
       "    this date\n",
       "    <span style=\"font-size: 0.8em; font-weight: bold; line-height: 1; border-radius: 0.35em; text-transform: uppercase; vertical-align: middle; margin-left: 0.5rem\">DATE</span>\n",
       "</mark>\n",
       ", on \n",
       "<mark class=\"entity\" style=\"background: #bfe1d9; padding: 0.45em 0.6em; margin: 0 0.25em; line-height: 1; border-radius: 0.35em;\">\n",
       "    July 17, 2017\n",
       "    <span style=\"font-size: 0.8em; font-weight: bold; line-height: 1; border-radius: 0.35em; text-transform: uppercase; vertical-align: middle; margin-left: 0.5rem\">DATE</span>\n",
       "</mark>\n",
       ", \n",
       "<mark class=\"entity\" style=\"background: #7aecec; padding: 0.45em 0.6em; margin: 0 0.25em; line-height: 1; border-radius: 0.35em;\">\n",
       "    McAfee\n",
       "    <span style=\"font-size: 0.8em; font-weight: bold; line-height: 1; border-radius: 0.35em; text-transform: uppercase; vertical-align: middle; margin-left: 0.5rem\">ORG</span>\n",
       "</mark>\n",
       ", the \n",
       "<mark class=\"entity\" style=\"background: #7aecec; padding: 0.45em 0.6em; margin: 0 0.25em; line-height: 1; border-radius: 0.35em;\">\n",
       "    ec\n",
       "    <span style=\"font-size: 0.8em; font-weight: bold; line-height: 1; border-radius: 0.35em; text-transform: uppercase; vertical-align: middle; margin-left: 0.5rem\">ORG</span>\n",
       "</mark>\n",
       "… [+3653 chars]San \n",
       "<mark class=\"entity\" style=\"background: #7aecec; padding: 0.45em 0.6em; margin: 0 0.25em; line-height: 1; border-radius: 0.35em;\">\n",
       "    Francisco\n",
       "    <span style=\"font-size: 0.8em; font-weight: bold; line-height: 1; border-radius: 0.35em; text-transform: uppercase; vertical-align: middle; margin-left: 0.5rem\">ORG</span>\n",
       "</mark>\n",
       " (\n",
       "<mark class=\"entity\" style=\"background: #7aecec; padding: 0.45em 0.6em; margin: 0 0.25em; line-height: 1; border-radius: 0.35em;\">\n",
       "    CNN\n",
       "    <span style=\"font-size: 0.8em; font-weight: bold; line-height: 1; border-radius: 0.35em; text-transform: uppercase; vertical-align: middle; margin-left: 0.5rem\">ORG</span>\n",
       "</mark>\n",
       " Business)Twitter(TWTR) accounts belonging to \n",
       "<mark class=\"entity\" style=\"background: #aa9cfc; padding: 0.45em 0.6em; margin: 0 0.25em; line-height: 1; border-radius: 0.35em;\">\n",
       "    Joe Biden\n",
       "    <span style=\"font-size: 0.8em; font-weight: bold; line-height: 1; border-radius: 0.35em; text-transform: uppercase; vertical-align: middle; margin-left: 0.5rem\">PERSON</span>\n",
       "</mark>\n",
       ", \n",
       "<mark class=\"entity\" style=\"background: #aa9cfc; padding: 0.45em 0.6em; margin: 0 0.25em; line-height: 1; border-radius: 0.35em;\">\n",
       "    Bill Gates\n",
       "    <span style=\"font-size: 0.8em; font-weight: bold; line-height: 1; border-radius: 0.35em; text-transform: uppercase; vertical-align: middle; margin-left: 0.5rem\">PERSON</span>\n",
       "</mark>\n",
       ", \n",
       "<mark class=\"entity\" style=\"background: #7aecec; padding: 0.45em 0.6em; margin: 0 0.25em; line-height: 1; border-radius: 0.35em;\">\n",
       "    Elon Musk\n",
       "    <span style=\"font-size: 0.8em; font-weight: bold; line-height: 1; border-radius: 0.35em; text-transform: uppercase; vertical-align: middle; margin-left: 0.5rem\">ORG</span>\n",
       "</mark>\n",
       " and \n",
       "<mark class=\"entity\" style=\"background: #7aecec; padding: 0.45em 0.6em; margin: 0 0.25em; line-height: 1; border-radius: 0.35em;\">\n",
       "    Apple\n",
       "    <span style=\"font-size: 0.8em; font-weight: bold; line-height: 1; border-radius: 0.35em; text-transform: uppercase; vertical-align: middle; margin-left: 0.5rem\">ORG</span>\n",
       "</mark>\n",
       ", among other prominent handles, were compromised on \n",
       "<mark class=\"entity\" style=\"background: #bfe1d9; padding: 0.45em 0.6em; margin: 0 0.25em; line-height: 1; border-radius: 0.35em;\">\n",
       "    Wednesday\n",
       "    <span style=\"font-size: 0.8em; font-weight: bold; line-height: 1; border-radius: 0.35em; text-transform: uppercase; vertical-align: middle; margin-left: 0.5rem\">DATE</span>\n",
       "</mark>\n",
       " and posted tweets that appeare… [+440 chars]Something normal happened on \n",
       "<mark class=\"entity\" style=\"background: #7aecec; padding: 0.45em 0.6em; margin: 0 0.25em; line-height: 1; border-radius: 0.35em;\">\n",
       "    Twitter\n",
       "    <span style=\"font-size: 0.8em; font-weight: bold; line-height: 1; border-radius: 0.35em; text-transform: uppercase; vertical-align: middle; margin-left: 0.5rem\">ORG</span>\n",
       "</mark>\n",
       " \n",
       "<mark class=\"entity\" style=\"background: #bfe1d9; padding: 0.45em 0.6em; margin: 0 0.25em; line-height: 1; border-radius: 0.35em;\">\n",
       "    earlier this afternoon\n",
       "    <span style=\"font-size: 0.8em; font-weight: bold; line-height: 1; border-radius: 0.35em; text-transform: uppercase; vertical-align: middle; margin-left: 0.5rem\">TIME</span>\n",
       "</mark>\n",
       ". Someone claiming to be \n",
       "<mark class=\"entity\" style=\"background: #7aecec; padding: 0.45em 0.6em; margin: 0 0.25em; line-height: 1; border-radius: 0.35em;\">\n",
       "    Elon Musk\n",
       "    <span style=\"font-size: 0.8em; font-weight: bold; line-height: 1; border-radius: 0.35em; text-transform: uppercase; vertical-align: middle; margin-left: 0.5rem\">ORG</span>\n",
       "</mark>\n",
       " started tweeting an obvious scam to entice his loyal bootlickers to send bitcoin to a random cryptocurren… [+1211 chars]Twitter spectacularly shit the bed on \n",
       "<mark class=\"entity\" style=\"background: #bfe1d9; padding: 0.45em 0.6em; margin: 0 0.25em; line-height: 1; border-radius: 0.35em;\">\n",
       "    Wednesday evening\n",
       "    <span style=\"font-size: 0.8em; font-weight: bold; line-height: 1; border-radius: 0.35em; text-transform: uppercase; vertical-align: middle; margin-left: 0.5rem\">TIME</span>\n",
       "</mark>\n",
       " as it scrambled to stamp out a widespread hack of high-profile accounts.\r",
       "</br>Soon after \n",
       "<mark class=\"entity\" style=\"background: #bfe1d9; padding: 0.45em 0.6em; margin: 0 0.25em; line-height: 1; border-radius: 0.35em;\">\n",
       "    6 pm ET\n",
       "    <span style=\"font-size: 0.8em; font-weight: bold; line-height: 1; border-radius: 0.35em; text-transform: uppercase; vertical-align: middle; margin-left: 0.5rem\">TIME</span>\n",
       "</mark>\n",
       ", several verified \n",
       "<mark class=\"entity\" style=\"background: #7aecec; padding: 0.45em 0.6em; margin: 0 0.25em; line-height: 1; border-radius: 0.35em;\">\n",
       "    Twitter\n",
       "    <span style=\"font-size: 0.8em; font-weight: bold; line-height: 1; border-radius: 0.35em; text-transform: uppercase; vertical-align: middle; margin-left: 0.5rem\">ORG</span>\n",
       "</mark>\n",
       " accounts were blocked fr… [+1465 chars]The threat of ransomware may seem ubiquitous, but there haven't been too many strains tailored specifically to infect \n",
       "<mark class=\"entity\" style=\"background: #7aecec; padding: 0.45em 0.6em; margin: 0 0.25em; line-height: 1; border-radius: 0.35em;\">\n",
       "    Apple\n",
       "    <span style=\"font-size: 0.8em; font-weight: bold; line-height: 1; border-radius: 0.35em; text-transform: uppercase; vertical-align: middle; margin-left: 0.5rem\">ORG</span>\n",
       "</mark>\n",
       "'s \n",
       "<mark class=\"entity\" style=\"background: #7aecec; padding: 0.45em 0.6em; margin: 0 0.25em; line-height: 1; border-radius: 0.35em;\">\n",
       "    Mac\n",
       "    <span style=\"font-size: 0.8em; font-weight: bold; line-height: 1; border-radius: 0.35em; text-transform: uppercase; vertical-align: middle; margin-left: 0.5rem\">ORG</span>\n",
       "</mark>\n",
       " computers since the \n",
       "<mark class=\"entity\" style=\"background: #e4e7d2; padding: 0.45em 0.6em; margin: 0 0.25em; line-height: 1; border-radius: 0.35em;\">\n",
       "    first\n",
       "    <span style=\"font-size: 0.8em; font-weight: bold; line-height: 1; border-radius: 0.35em; text-transform: uppercase; vertical-align: middle; margin-left: 0.5rem\">ORDINAL</span>\n",
       "</mark>\n",
       " full-fledged \n",
       "<mark class=\"entity\" style=\"background: #7aecec; padding: 0.45em 0.6em; margin: 0 0.25em; line-height: 1; border-radius: 0.35em;\">\n",
       "    Mac\n",
       "    <span style=\"font-size: 0.8em; font-weight: bold; line-height: 1; border-radius: 0.35em; text-transform: uppercase; vertical-align: middle; margin-left: 0.5rem\">ORG</span>\n",
       "</mark>\n",
       " ransomware surfaced only f… [+3731 chars]In case you haven't heard, \n",
       "<mark class=\"entity\" style=\"background: #aa9cfc; padding: 0.45em 0.6em; margin: 0 0.25em; line-height: 1; border-radius: 0.35em;\">\n",
       "    Barack Obama\n",
       "    <span style=\"font-size: 0.8em; font-weight: bold; line-height: 1; border-radius: 0.35em; text-transform: uppercase; vertical-align: middle; margin-left: 0.5rem\">PERSON</span>\n",
       "</mark>\n",
       ", \n",
       "<mark class=\"entity\" style=\"background: #aa9cfc; padding: 0.45em 0.6em; margin: 0 0.25em; line-height: 1; border-radius: 0.35em;\">\n",
       "    Joe Biden\n",
       "    <span style=\"font-size: 0.8em; font-weight: bold; line-height: 1; border-radius: 0.35em; text-transform: uppercase; vertical-align: middle; margin-left: 0.5rem\">PERSON</span>\n",
       "</mark>\n",
       ", \n",
       "<mark class=\"entity\" style=\"background: #aa9cfc; padding: 0.45em 0.6em; margin: 0 0.25em; line-height: 1; border-radius: 0.35em;\">\n",
       "    Elon Musk\n",
       "    <span style=\"font-size: 0.8em; font-weight: bold; line-height: 1; border-radius: 0.35em; text-transform: uppercase; vertical-align: middle; margin-left: 0.5rem\">PERSON</span>\n",
       "</mark>\n",
       ", \n",
       "<mark class=\"entity\" style=\"background: #feca74; padding: 0.45em 0.6em; margin: 0 0.25em; line-height: 1; border-radius: 0.35em;\">\n",
       "    Kanye West\n",
       "    <span style=\"font-size: 0.8em; font-weight: bold; line-height: 1; border-radius: 0.35em; text-transform: uppercase; vertical-align: middle; margin-left: 0.5rem\">GPE</span>\n",
       "</mark>\n",
       ", \n",
       "<mark class=\"entity\" style=\"background: #7aecec; padding: 0.45em 0.6em; margin: 0 0.25em; line-height: 1; border-radius: 0.35em;\">\n",
       "    Apple\n",
       "    <span style=\"font-size: 0.8em; font-weight: bold; line-height: 1; border-radius: 0.35em; text-transform: uppercase; vertical-align: middle; margin-left: 0.5rem\">ORG</span>\n",
       "</mark>\n",
       ", and other public figures and companies were victims of a major hack by scammers asking for bitcoin.\r",
       "</br>So, we thought t… [+3082 chars]The biggest news on \n",
       "<mark class=\"entity\" style=\"background: #bfe1d9; padding: 0.45em 0.6em; margin: 0 0.25em; line-height: 1; border-radius: 0.35em;\">\n",
       "    Wednesday\n",
       "    <span style=\"font-size: 0.8em; font-weight: bold; line-height: 1; border-radius: 0.35em; text-transform: uppercase; vertical-align: middle; margin-left: 0.5rem\">DATE</span>\n",
       "</mark>\n",
       " was the \n",
       "<mark class=\"entity\" style=\"background: #7aecec; padding: 0.45em 0.6em; margin: 0 0.25em; line-height: 1; border-radius: 0.35em;\">\n",
       "    Twitter\n",
       "    <span style=\"font-size: 0.8em; font-weight: bold; line-height: 1; border-radius: 0.35em; text-transform: uppercase; vertical-align: middle; margin-left: 0.5rem\">ORG</span>\n",
       "</mark>\n",
       " hack that saw the accounts of finance firms and major public figures, from \n",
       "<mark class=\"entity\" style=\"background: #feca74; padding: 0.45em 0.6em; margin: 0 0.25em; line-height: 1; border-radius: 0.35em;\">\n",
       "    Barack\n",
       "    <span style=\"font-size: 0.8em; font-weight: bold; line-height: 1; border-radius: 0.35em; text-transform: uppercase; vertical-align: middle; margin-left: 0.5rem\">GPE</span>\n",
       "</mark>\n",
       " Obama and \n",
       "<mark class=\"entity\" style=\"background: #aa9cfc; padding: 0.45em 0.6em; margin: 0 0.25em; line-height: 1; border-radius: 0.35em;\">\n",
       "    Joe Biden\n",
       "    <span style=\"font-size: 0.8em; font-weight: bold; line-height: 1; border-radius: 0.35em; text-transform: uppercase; vertical-align: middle; margin-left: 0.5rem\">PERSON</span>\n",
       "</mark>\n",
       " to \n",
       "<mark class=\"entity\" style=\"background: #7aecec; padding: 0.45em 0.6em; margin: 0 0.25em; line-height: 1; border-radius: 0.35em;\">\n",
       "    Elon Musk\n",
       "    <span style=\"font-size: 0.8em; font-weight: bold; line-height: 1; border-radius: 0.35em; text-transform: uppercase; vertical-align: middle; margin-left: 0.5rem\">ORG</span>\n",
       "</mark>\n",
       " and \n",
       "<mark class=\"entity\" style=\"background: #aa9cfc; padding: 0.45em 0.6em; margin: 0 0.25em; line-height: 1; border-radius: 0.35em;\">\n",
       "    Kim Kardashian\n",
       "    <span style=\"font-size: 0.8em; font-weight: bold; line-height: 1; border-radius: 0.35em; text-transform: uppercase; vertical-align: middle; margin-left: 0.5rem\">PERSON</span>\n",
       "</mark>\n",
       ", tweeting out links… [+1374 chars]In the days since we saw some of \n",
       "<mark class=\"entity\" style=\"background: #c887fb; padding: 0.45em 0.6em; margin: 0 0.25em; line-height: 1; border-radius: 0.35em;\">\n",
       "    Twitters\n",
       "    <span style=\"font-size: 0.8em; font-weight: bold; line-height: 1; border-radius: 0.35em; text-transform: uppercase; vertical-align: middle; margin-left: 0.5rem\">NORP</span>\n",
       "</mark>\n",
       " highest-profile accounts taken over for what appears to be a massive cryptocurrency scam, weve come up with more questions than weve gotten answers. How, exa… [+2490 chars]WASHINGTON (\n",
       "<mark class=\"entity\" style=\"background: #7aecec; padding: 0.45em 0.6em; margin: 0 0.25em; line-height: 1; border-radius: 0.35em;\">\n",
       "    Reuters\n",
       "    <span style=\"font-size: 0.8em; font-weight: bold; line-height: 1; border-radius: 0.35em; text-transform: uppercase; vertical-align: middle; margin-left: 0.5rem\">ORG</span>\n",
       "</mark>\n",
       ") - The official \n",
       "<mark class=\"entity\" style=\"background: #7aecec; padding: 0.45em 0.6em; margin: 0 0.25em; line-height: 1; border-radius: 0.35em;\">\n",
       "    Twitter\n",
       "    <span style=\"font-size: 0.8em; font-weight: bold; line-height: 1; border-radius: 0.35em; text-transform: uppercase; vertical-align: middle; margin-left: 0.5rem\">ORG</span>\n",
       "</mark>\n",
       " accounts of billionaires \n",
       "<mark class=\"entity\" style=\"background: #aa9cfc; padding: 0.45em 0.6em; margin: 0 0.25em; line-height: 1; border-radius: 0.35em;\">\n",
       "    Bill Gates\n",
       "    <span style=\"font-size: 0.8em; font-weight: bold; line-height: 1; border-radius: 0.35em; text-transform: uppercase; vertical-align: middle; margin-left: 0.5rem\">PERSON</span>\n",
       "</mark>\n",
       " and \n",
       "<mark class=\"entity\" style=\"background: #7aecec; padding: 0.45em 0.6em; margin: 0 0.25em; line-height: 1; border-radius: 0.35em;\">\n",
       "    Elon Musk\n",
       "    <span style=\"font-size: 0.8em; font-weight: bold; line-height: 1; border-radius: 0.35em; text-transform: uppercase; vertical-align: middle; margin-left: 0.5rem\">ORG</span>\n",
       "</mark>\n",
       " were apparently hacked as both accounts sought \n",
       "<mark class=\"entity\" style=\"background: #feca74; padding: 0.45em 0.6em; margin: 0 0.25em; line-height: 1; border-radius: 0.35em;\">\n",
       "    bitcoin\n",
       "    <span style=\"font-size: 0.8em; font-weight: bold; line-height: 1; border-radius: 0.35em; text-transform: uppercase; vertical-align: middle; margin-left: 0.5rem\">GPE</span>\n",
       "</mark>\n",
       " donations on \n",
       "<mark class=\"entity\" style=\"background: #bfe1d9; padding: 0.45em 0.6em; margin: 0 0.25em; line-height: 1; border-radius: 0.35em;\">\n",
       "    Wednesday\n",
       "    <span style=\"font-size: 0.8em; font-weight: bold; line-height: 1; border-radius: 0.35em; text-transform: uppercase; vertical-align: middle; margin-left: 0.5rem\">DATE</span>\n",
       "</mark>\n",
       ". \r",
       "</br>The tweets on both accou… [+154 chars]Now that were getting closer to \n",
       "<mark class=\"entity\" style=\"background: #feca74; padding: 0.45em 0.6em; margin: 0 0.25em; line-height: 1; border-radius: 0.35em;\">\n",
       "    Nvidias\n",
       "    <span style=\"font-size: 0.8em; font-weight: bold; line-height: 1; border-radius: 0.35em; text-transform: uppercase; vertical-align: middle; margin-left: 0.5rem\">GPE</span>\n",
       "</mark>\n",
       " anticipated \n",
       "<mark class=\"entity\" style=\"background: #bfe1d9; padding: 0.45em 0.6em; margin: 0 0.25em; line-height: 1; border-radius: 0.35em;\">\n",
       "    September 2020\n",
       "    <span style=\"font-size: 0.8em; font-weight: bold; line-height: 1; border-radius: 0.35em; text-transform: uppercase; vertical-align: middle; margin-left: 0.5rem\">DATE</span>\n",
       "</mark>\n",
       " release date of its next-generation \n",
       "<mark class=\"entity\" style=\"background: #ff8197; padding: 0.45em 0.6em; margin: 0 0.25em; line-height: 1; border-radius: 0.35em;\">\n",
       "    GeForce RTX 30\n",
       "    <span style=\"font-size: 0.8em; font-weight: bold; line-height: 1; border-radius: 0.35em; text-transform: uppercase; vertical-align: middle; margin-left: 0.5rem\">LAW</span>\n",
       "</mark>\n",
       " \n",
       "<mark class=\"entity\" style=\"background: #c887fb; padding: 0.45em 0.6em; margin: 0 0.25em; line-height: 1; border-radius: 0.35em;\">\n",
       "    Ampere\n",
       "    <span style=\"font-size: 0.8em; font-weight: bold; line-height: 1; border-radius: 0.35em; text-transform: uppercase; vertical-align: middle; margin-left: 0.5rem\">NORP</span>\n",
       "</mark>\n",
       " graphics cards, rumor has it that the company is already ceasing productio… [+4303 chars]</div></span>"
      ],
      "text/plain": [
       "<IPython.core.display.HTML object>"
      ]
     },
     "metadata": {},
     "output_type": "display_data"
    }
   ],
   "source": [
    "# Render the visualization\n",
    "displacy.render(doc2, style='ent')"
   ]
  },
  {
   "cell_type": "code",
   "execution_count": 181,
   "metadata": {},
   "outputs": [
    {
     "data": {
      "text/plain": [
       "['Twitter',\n",
       " 'FBI',\n",
       " 'FBI',\n",
       " 'Bitcoin',\n",
       " 'Kanye West',\n",
       " 'Elon Musk',\n",
       " 'FBI',\n",
       " '@rippl',\n",
       " 'The Social Network',\n",
       " 'Twitter',\n",
       " 'Bitcoin',\n",
       " 'Singapore',\n",
       " 'HDR Group',\n",
       " 'McAfee',\n",
       " 'ec',\n",
       " 'Francisco',\n",
       " 'CNN',\n",
       " 'Elon Musk',\n",
       " 'Apple',\n",
       " 'Twitter',\n",
       " 'Elon Musk',\n",
       " 'Twitter',\n",
       " 'Apple',\n",
       " 'Mac',\n",
       " 'Mac',\n",
       " 'Kanye West',\n",
       " 'Apple',\n",
       " 'Twitter',\n",
       " 'Barack',\n",
       " 'Elon Musk',\n",
       " 'Reuters',\n",
       " 'Twitter',\n",
       " 'Elon Musk',\n",
       " 'bitcoin',\n",
       " 'Nvidias']"
      ]
     },
     "execution_count": 181,
     "metadata": {},
     "output_type": "execute_result"
    }
   ],
   "source": [
    "# List all Entities\n",
    "entities = [ent.text for ent in doc2.ents if ent.label_ in ['GPE', 'ORG']]\n",
    "entities"
   ]
  },
  {
   "cell_type": "markdown",
   "metadata": {},
   "source": [
    "---"
   ]
  },
  {
   "cell_type": "markdown",
   "metadata": {},
   "source": [
    "## Ethereum NER"
   ]
  },
  {
   "cell_type": "code",
   "execution_count": 184,
   "metadata": {},
   "outputs": [
    {
     "data": {
      "text/plain": [
       "['Sparrow Exchange, a Bitcoin and Ethereum options trading platform based in Singapore, announced today it has raised $3.5 million in Series A funding.\\r\\nThe round was led by HDR Group, the owner of cry… [+833 chars]',\n",
       " 'Editor’s note:Andreessen HorowitzsCrypto Startup School brought together 45 participants from around the U.S. and overseas in a seven-week course to learn how to build crypto companies. Andreessen Ho… [+3009 chars]',\n",
       " \"TL;DR: The Complete Cryptocurrency Investment bundle is on sale for £19.21 as of June 25, saving you 94% on list price.\\r\\nIf we're to believe every plot point from the movie The Social Network, Mark Z… [+2756 chars]\",\n",
       " 'Introducing Web3Torrent\\r\\nJune 18, 2020\\r\\nToday were excited to share something weve been working on behind the scenes of the\\r\\nState Channels project: Web3Torrent.\\r\\nWeb3Torrent is a browser based torre… [+10464 chars]',\n",
       " 'When the inventor of AWS Lambda, Tim Wagner, and the former head of blockchain at AWS, Shruthi Rao, co-found a startup, it’s probably worth paying attention. Vendia, as the new venture is called, com… [+4751 chars]',\n",
       " None,\n",
       " None,\n",
       " 'I was perusing the crypto markets today and noticed that Tether, the grandfather of all stablecoins, is approaching a $10bn market cap, making it the third most valuable crypto asset after Bitcoin an… [+1282 chars]',\n",
       " None,\n",
       " None,\n",
       " 'Interest in bitcoin and other cryptocurrencies, including ethereum, is boomingfueled by unprecedented central bank stimulus measures and rocketing demand for alternative finance.\\r\\nThe bitcoin price, … [+3141 chars]',\n",
       " 'Lightweight, open-source, universal paper wallet generator\\r\\nDescription\\r\\nUsing third-party services to generate paper wallets should be avoided without proper code auditing by independent entities.\\r\\n… [+2361 chars]',\n",
       " 'Getty\\r\\nYou have to use phrases like Ethereum Is Going To The Moon because we are after all talking about cryptocurrency, the bad boy of the financial world.\\r\\nIve never been a fan of Ethereum because … [+4415 chars]',\n",
       " 'Many who are new to crypto assume that there will only be one important cryptoasset in the long run, and that the challenge as an investor is to pick the best one.\\r\\nWe disagree.\\r\\nWhy? Because differe… [+9664 chars]',\n",
       " 'BITCOIN DASH THE Bitcoin is the original cryptocurrency, and was released as open-source software in 2009. CRYPTO UNIVERSE Dash is an attempt to improve on Bitcoin in two main areas: speed of transac… [+8117 chars]',\n",
       " 'Bolton book reveals President Trumps suspicion of Bitcoin, but his administrations actions support Bitcoin and Ethereum at the expense of other crypto currencies.\\r\\nNational Security Advisor John R. B… [+5424 chars]',\n",
       " \"If you're into cryptocurrency like Bitcoin, Ethereum, ERC20, and others, then you need a good crypto wallet. The Ledger Nano X Bluetooth crypto hardware wallet is down to $89.25 on Amazon. The Nano X… [+2003 chars]\",\n",
       " 'BUY BITCOIN WITH VENMO OWNR Wallet helps users to keep their digital coins safe from external threats, while also offering a variety of useful features to both holders and traders. www.ownrwallet.com',\n",
       " 'Sigal Mandelker, then-U.S. Treasury undersecretary for terrorism and financial intelligence, speaks ... [+] during a 2018 conference on cyber law enforcement at the Department of Justice in Washingto… [+5801 chars]',\n",
       " 'This is a weird year for everyone and everything, but it’s a particularly weird year for Ethereum.\\xa0\\r\\nWhy? The second-largest blockchain by market cap and the largest by contributing developers has al… [+8276 chars]']"
      ]
     },
     "execution_count": 184,
     "metadata": {},
     "output_type": "execute_result"
    }
   ],
   "source": [
    "# Concatenate all of the ethereum text together\n",
    "doc3 = []\n",
    "for x in ethereum_articles['articles']:\n",
    "    text = x['content']\n",
    "    doc3.append(text)\n",
    "doc3"
   ]
  },
  {
   "cell_type": "code",
   "execution_count": 186,
   "metadata": {},
   "outputs": [
    {
     "data": {
      "text/plain": [
       "\"Sparrow Exchange, a Bitcoin and Ethereum options trading platform based in Singapore, announced today it has raised $3.5 million in Series A funding.\\r\\nThe round was led by HDR Group, the owner of cry… [+833 chars]Editor’s note:Andreessen HorowitzsCrypto Startup School brought together 45 participants from around the U.S. and overseas in a seven-week course to learn how to build crypto companies. Andreessen Ho… [+3009 chars]TL;DR: The Complete Cryptocurrency Investment bundle is on sale for £19.21 as of June 25, saving you 94% on list price.\\r\\nIf we're to believe every plot point from the movie The Social Network, Mark Z… [+2756 chars]Introducing Web3Torrent\\r\\nJune 18, 2020\\r\\nToday were excited to share something weve been working on behind the scenes of the\\r\\nState Channels project: Web3Torrent.\\r\\nWeb3Torrent is a browser based torre… [+10464 chars]When the inventor of AWS Lambda, Tim Wagner, and the former head of blockchain at AWS, Shruthi Rao, co-found a startup, it’s probably worth paying attention. Vendia, as the new venture is called, com… [+4751 chars]NoneNoneI was perusing the crypto markets today and noticed that Tether, the grandfather of all stablecoins, is approaching a $10bn market cap, making it the third most valuable crypto asset after Bitcoin an… [+1282 chars]NoneNoneInterest in bitcoin and other cryptocurrencies, including ethereum, is boomingfueled by unprecedented central bank stimulus measures and rocketing demand for alternative finance.\\r\\nThe bitcoin price, … [+3141 chars]Lightweight, open-source, universal paper wallet generator\\r\\nDescription\\r\\nUsing third-party services to generate paper wallets should be avoided without proper code auditing by independent entities.\\r\\n… [+2361 chars]Getty\\r\\nYou have to use phrases like Ethereum Is Going To The Moon because we are after all talking about cryptocurrency, the bad boy of the financial world.\\r\\nIve never been a fan of Ethereum because … [+4415 chars]Many who are new to crypto assume that there will only be one important cryptoasset in the long run, and that the challenge as an investor is to pick the best one.\\r\\nWe disagree.\\r\\nWhy? Because differe… [+9664 chars]BITCOIN DASH THE Bitcoin is the original cryptocurrency, and was released as open-source software in 2009. CRYPTO UNIVERSE Dash is an attempt to improve on Bitcoin in two main areas: speed of transac… [+8117 chars]Bolton book reveals President Trumps suspicion of Bitcoin, but his administrations actions support Bitcoin and Ethereum at the expense of other crypto currencies.\\r\\nNational Security Advisor John R. B… [+5424 chars]If you're into cryptocurrency like Bitcoin, Ethereum, ERC20, and others, then you need a good crypto wallet. The Ledger Nano X Bluetooth crypto hardware wallet is down to $89.25 on Amazon. The Nano X… [+2003 chars]BUY BITCOIN WITH VENMO OWNR Wallet helps users to keep their digital coins safe from external threats, while also offering a variety of useful features to both holders and traders. www.ownrwallet.comSigal Mandelker, then-U.S. Treasury undersecretary for terrorism and financial intelligence, speaks ... [+] during a 2018 conference on cyber law enforcement at the Department of Justice in Washingto… [+5801 chars]This is a weird year for everyone and everything, but it’s a particularly weird year for Ethereum.\\xa0\\r\\nWhy? The second-largest blockchain by market cap and the largest by contributing developers has al… [+8276 chars]\""
      ]
     },
     "execution_count": 186,
     "metadata": {},
     "output_type": "execute_result"
    }
   ],
   "source": [
    "# Convert the doc list to string so it works in using Spacy\n",
    "str_doc2 = ''.join(map(str, doc3))\n",
    "str_doc2"
   ]
  },
  {
   "cell_type": "code",
   "execution_count": 187,
   "metadata": {},
   "outputs": [],
   "source": [
    "# Run the NER processor on all of the text\n",
    "doc4 = nlp(str_doc2)"
   ]
  },
  {
   "cell_type": "code",
   "execution_count": 188,
   "metadata": {},
   "outputs": [
    {
     "data": {
      "text/html": [
       "<span class=\"tex2jax_ignore\"><div class=\"entities\" style=\"line-height: 2.5; direction: ltr\">\n",
       "<mark class=\"entity\" style=\"background: #7aecec; padding: 0.45em 0.6em; margin: 0 0.25em; line-height: 1; border-radius: 0.35em;\">\n",
       "    Sparrow Exchange\n",
       "    <span style=\"font-size: 0.8em; font-weight: bold; line-height: 1; border-radius: 0.35em; text-transform: uppercase; vertical-align: middle; margin-left: 0.5rem\">ORG</span>\n",
       "</mark>\n",
       ", a \n",
       "<mark class=\"entity\" style=\"background: #feca74; padding: 0.45em 0.6em; margin: 0 0.25em; line-height: 1; border-radius: 0.35em;\">\n",
       "    Bitcoin\n",
       "    <span style=\"font-size: 0.8em; font-weight: bold; line-height: 1; border-radius: 0.35em; text-transform: uppercase; vertical-align: middle; margin-left: 0.5rem\">GPE</span>\n",
       "</mark>\n",
       " and Ethereum options trading platform based in \n",
       "<mark class=\"entity\" style=\"background: #feca74; padding: 0.45em 0.6em; margin: 0 0.25em; line-height: 1; border-radius: 0.35em;\">\n",
       "    Singapore\n",
       "    <span style=\"font-size: 0.8em; font-weight: bold; line-height: 1; border-radius: 0.35em; text-transform: uppercase; vertical-align: middle; margin-left: 0.5rem\">GPE</span>\n",
       "</mark>\n",
       ", announced \n",
       "<mark class=\"entity\" style=\"background: #bfe1d9; padding: 0.45em 0.6em; margin: 0 0.25em; line-height: 1; border-radius: 0.35em;\">\n",
       "    today\n",
       "    <span style=\"font-size: 0.8em; font-weight: bold; line-height: 1; border-radius: 0.35em; text-transform: uppercase; vertical-align: middle; margin-left: 0.5rem\">DATE</span>\n",
       "</mark>\n",
       " it has raised \n",
       "<mark class=\"entity\" style=\"background: #e4e7d2; padding: 0.45em 0.6em; margin: 0 0.25em; line-height: 1; border-radius: 0.35em;\">\n",
       "    $3.5 million\n",
       "    <span style=\"font-size: 0.8em; font-weight: bold; line-height: 1; border-radius: 0.35em; text-transform: uppercase; vertical-align: middle; margin-left: 0.5rem\">MONEY</span>\n",
       "</mark>\n",
       " in Series A funding.\r",
       "</br>The round was led by \n",
       "<mark class=\"entity\" style=\"background: #7aecec; padding: 0.45em 0.6em; margin: 0 0.25em; line-height: 1; border-radius: 0.35em;\">\n",
       "    HDR Group\n",
       "    <span style=\"font-size: 0.8em; font-weight: bold; line-height: 1; border-radius: 0.35em; text-transform: uppercase; vertical-align: middle; margin-left: 0.5rem\">ORG</span>\n",
       "</mark>\n",
       ", the owner of cry… [+833 chars]Editor’s note:\n",
       "<mark class=\"entity\" style=\"background: #7aecec; padding: 0.45em 0.6em; margin: 0 0.25em; line-height: 1; border-radius: 0.35em;\">\n",
       "    Andreessen HorowitzsCrypto Startup School\n",
       "    <span style=\"font-size: 0.8em; font-weight: bold; line-height: 1; border-radius: 0.35em; text-transform: uppercase; vertical-align: middle; margin-left: 0.5rem\">ORG</span>\n",
       "</mark>\n",
       " brought together \n",
       "<mark class=\"entity\" style=\"background: #e4e7d2; padding: 0.45em 0.6em; margin: 0 0.25em; line-height: 1; border-radius: 0.35em;\">\n",
       "    45\n",
       "    <span style=\"font-size: 0.8em; font-weight: bold; line-height: 1; border-radius: 0.35em; text-transform: uppercase; vertical-align: middle; margin-left: 0.5rem\">CARDINAL</span>\n",
       "</mark>\n",
       " participants from around the \n",
       "<mark class=\"entity\" style=\"background: #feca74; padding: 0.45em 0.6em; margin: 0 0.25em; line-height: 1; border-radius: 0.35em;\">\n",
       "    U.S.\n",
       "    <span style=\"font-size: 0.8em; font-weight: bold; line-height: 1; border-radius: 0.35em; text-transform: uppercase; vertical-align: middle; margin-left: 0.5rem\">GPE</span>\n",
       "</mark>\n",
       " and overseas in a \n",
       "<mark class=\"entity\" style=\"background: #bfe1d9; padding: 0.45em 0.6em; margin: 0 0.25em; line-height: 1; border-radius: 0.35em;\">\n",
       "    seven-week\n",
       "    <span style=\"font-size: 0.8em; font-weight: bold; line-height: 1; border-radius: 0.35em; text-transform: uppercase; vertical-align: middle; margin-left: 0.5rem\">DATE</span>\n",
       "</mark>\n",
       " course to learn how to build crypto companies. \n",
       "<mark class=\"entity\" style=\"background: #aa9cfc; padding: 0.45em 0.6em; margin: 0 0.25em; line-height: 1; border-radius: 0.35em;\">\n",
       "    Andreessen Ho\n",
       "    <span style=\"font-size: 0.8em; font-weight: bold; line-height: 1; border-radius: 0.35em; text-transform: uppercase; vertical-align: middle; margin-left: 0.5rem\">PERSON</span>\n",
       "</mark>\n",
       "… [+3009 chars]TL;DR: The Complete Cryptocurrency Investment bundle is on sale for £\n",
       "<mark class=\"entity\" style=\"background: #e4e7d2; padding: 0.45em 0.6em; margin: 0 0.25em; line-height: 1; border-radius: 0.35em;\">\n",
       "    19.21\n",
       "    <span style=\"font-size: 0.8em; font-weight: bold; line-height: 1; border-radius: 0.35em; text-transform: uppercase; vertical-align: middle; margin-left: 0.5rem\">MONEY</span>\n",
       "</mark>\n",
       " as of \n",
       "<mark class=\"entity\" style=\"background: #bfe1d9; padding: 0.45em 0.6em; margin: 0 0.25em; line-height: 1; border-radius: 0.35em;\">\n",
       "    June 25\n",
       "    <span style=\"font-size: 0.8em; font-weight: bold; line-height: 1; border-radius: 0.35em; text-transform: uppercase; vertical-align: middle; margin-left: 0.5rem\">DATE</span>\n",
       "</mark>\n",
       ", saving you \n",
       "<mark class=\"entity\" style=\"background: #e4e7d2; padding: 0.45em 0.6em; margin: 0 0.25em; line-height: 1; border-radius: 0.35em;\">\n",
       "    94%\n",
       "    <span style=\"font-size: 0.8em; font-weight: bold; line-height: 1; border-radius: 0.35em; text-transform: uppercase; vertical-align: middle; margin-left: 0.5rem\">PERCENT</span>\n",
       "</mark>\n",
       " on list price.\r",
       "</br>If we're to believe every plot point from the movie \n",
       "<mark class=\"entity\" style=\"background: #7aecec; padding: 0.45em 0.6em; margin: 0 0.25em; line-height: 1; border-radius: 0.35em;\">\n",
       "    The Social Network\n",
       "    <span style=\"font-size: 0.8em; font-weight: bold; line-height: 1; border-radius: 0.35em; text-transform: uppercase; vertical-align: middle; margin-left: 0.5rem\">ORG</span>\n",
       "</mark>\n",
       ", \n",
       "<mark class=\"entity\" style=\"background: #aa9cfc; padding: 0.45em 0.6em; margin: 0 0.25em; line-height: 1; border-radius: 0.35em;\">\n",
       "    Mark Z\n",
       "    <span style=\"font-size: 0.8em; font-weight: bold; line-height: 1; border-radius: 0.35em; text-transform: uppercase; vertical-align: middle; margin-left: 0.5rem\">PERSON</span>\n",
       "</mark>\n",
       "… [+2756 chars]Introducing Web3Torrent\r",
       "</br>\n",
       "<mark class=\"entity\" style=\"background: #bfe1d9; padding: 0.45em 0.6em; margin: 0 0.25em; line-height: 1; border-radius: 0.35em;\">\n",
       "    June 18, 2020\n",
       "    <span style=\"font-size: 0.8em; font-weight: bold; line-height: 1; border-radius: 0.35em; text-transform: uppercase; vertical-align: middle; margin-left: 0.5rem\">DATE</span>\n",
       "</mark>\n",
       "\r",
       "</br>\n",
       "<mark class=\"entity\" style=\"background: #bfe1d9; padding: 0.45em 0.6em; margin: 0 0.25em; line-height: 1; border-radius: 0.35em;\">\n",
       "    Today\n",
       "    <span style=\"font-size: 0.8em; font-weight: bold; line-height: 1; border-radius: 0.35em; text-transform: uppercase; vertical-align: middle; margin-left: 0.5rem\">DATE</span>\n",
       "</mark>\n",
       " were excited to share something weve been working on behind the scenes of the\r",
       "</br>State Channels project: Web3Torrent.\r",
       "</br>Web3Torrent is a browser based torre… [+10464 chars]When the inventor of \n",
       "<mark class=\"entity\" style=\"background: #7aecec; padding: 0.45em 0.6em; margin: 0 0.25em; line-height: 1; border-radius: 0.35em;\">\n",
       "    AWS Lambda\n",
       "    <span style=\"font-size: 0.8em; font-weight: bold; line-height: 1; border-radius: 0.35em; text-transform: uppercase; vertical-align: middle; margin-left: 0.5rem\">ORG</span>\n",
       "</mark>\n",
       ", \n",
       "<mark class=\"entity\" style=\"background: #aa9cfc; padding: 0.45em 0.6em; margin: 0 0.25em; line-height: 1; border-radius: 0.35em;\">\n",
       "    Tim Wagner\n",
       "    <span style=\"font-size: 0.8em; font-weight: bold; line-height: 1; border-radius: 0.35em; text-transform: uppercase; vertical-align: middle; margin-left: 0.5rem\">PERSON</span>\n",
       "</mark>\n",
       ", and the former head of blockchain at AWS, \n",
       "<mark class=\"entity\" style=\"background: #aa9cfc; padding: 0.45em 0.6em; margin: 0 0.25em; line-height: 1; border-radius: 0.35em;\">\n",
       "    Shruthi Rao\n",
       "    <span style=\"font-size: 0.8em; font-weight: bold; line-height: 1; border-radius: 0.35em; text-transform: uppercase; vertical-align: middle; margin-left: 0.5rem\">PERSON</span>\n",
       "</mark>\n",
       ", co-found a startup, it’s probably worth paying attention. \n",
       "<mark class=\"entity\" style=\"background: #7aecec; padding: 0.45em 0.6em; margin: 0 0.25em; line-height: 1; border-radius: 0.35em;\">\n",
       "    Vendia\n",
       "    <span style=\"font-size: 0.8em; font-weight: bold; line-height: 1; border-radius: 0.35em; text-transform: uppercase; vertical-align: middle; margin-left: 0.5rem\">ORG</span>\n",
       "</mark>\n",
       ", as the new venture is called, com… [+4751 \n",
       "<mark class=\"entity\" style=\"background: #c887fb; padding: 0.45em 0.6em; margin: 0 0.25em; line-height: 1; border-radius: 0.35em;\">\n",
       "    chars]NoneNoneI\n",
       "    <span style=\"font-size: 0.8em; font-weight: bold; line-height: 1; border-radius: 0.35em; text-transform: uppercase; vertical-align: middle; margin-left: 0.5rem\">NORP</span>\n",
       "</mark>\n",
       " was perusing the crypto markets \n",
       "<mark class=\"entity\" style=\"background: #bfe1d9; padding: 0.45em 0.6em; margin: 0 0.25em; line-height: 1; border-radius: 0.35em;\">\n",
       "    today\n",
       "    <span style=\"font-size: 0.8em; font-weight: bold; line-height: 1; border-radius: 0.35em; text-transform: uppercase; vertical-align: middle; margin-left: 0.5rem\">DATE</span>\n",
       "</mark>\n",
       " and noticed that \n",
       "<mark class=\"entity\" style=\"background: #aa9cfc; padding: 0.45em 0.6em; margin: 0 0.25em; line-height: 1; border-radius: 0.35em;\">\n",
       "    Tether\n",
       "    <span style=\"font-size: 0.8em; font-weight: bold; line-height: 1; border-radius: 0.35em; text-transform: uppercase; vertical-align: middle; margin-left: 0.5rem\">PERSON</span>\n",
       "</mark>\n",
       ", the grandfather of all stablecoins, is approaching a $\n",
       "<mark class=\"entity\" style=\"background: #e4e7d2; padding: 0.45em 0.6em; margin: 0 0.25em; line-height: 1; border-radius: 0.35em;\">\n",
       "    10bn\n",
       "    <span style=\"font-size: 0.8em; font-weight: bold; line-height: 1; border-radius: 0.35em; text-transform: uppercase; vertical-align: middle; margin-left: 0.5rem\">MONEY</span>\n",
       "</mark>\n",
       " market cap, making it the \n",
       "<mark class=\"entity\" style=\"background: #e4e7d2; padding: 0.45em 0.6em; margin: 0 0.25em; line-height: 1; border-radius: 0.35em;\">\n",
       "    third\n",
       "    <span style=\"font-size: 0.8em; font-weight: bold; line-height: 1; border-radius: 0.35em; text-transform: uppercase; vertical-align: middle; margin-left: 0.5rem\">ORDINAL</span>\n",
       "</mark>\n",
       " most valuable crypto asset after \n",
       "<mark class=\"entity\" style=\"background: #feca74; padding: 0.45em 0.6em; margin: 0 0.25em; line-height: 1; border-radius: 0.35em;\">\n",
       "    Bitcoin\n",
       "    <span style=\"font-size: 0.8em; font-weight: bold; line-height: 1; border-radius: 0.35em; text-transform: uppercase; vertical-align: middle; margin-left: 0.5rem\">GPE</span>\n",
       "</mark>\n",
       " an… [+1282 chars]NoneNoneInterest in \n",
       "<mark class=\"entity\" style=\"background: #feca74; padding: 0.45em 0.6em; margin: 0 0.25em; line-height: 1; border-radius: 0.35em;\">\n",
       "    bitcoin\n",
       "    <span style=\"font-size: 0.8em; font-weight: bold; line-height: 1; border-radius: 0.35em; text-transform: uppercase; vertical-align: middle; margin-left: 0.5rem\">GPE</span>\n",
       "</mark>\n",
       " and other cryptocurrencies, including ethereum, is boomingfueled by unprecedented central bank stimulus measures and rocketing demand for alternative finance.\r",
       "</br>The bitcoin price, … [+3141 chars]Lightweight, open-source, universal paper wallet generator\r",
       "</br>Description\r",
       "</br>Using \n",
       "<mark class=\"entity\" style=\"background: #e4e7d2; padding: 0.45em 0.6em; margin: 0 0.25em; line-height: 1; border-radius: 0.35em;\">\n",
       "    third\n",
       "    <span style=\"font-size: 0.8em; font-weight: bold; line-height: 1; border-radius: 0.35em; text-transform: uppercase; vertical-align: middle; margin-left: 0.5rem\">ORDINAL</span>\n",
       "</mark>\n",
       "-party services to generate paper wallets should be avoided without proper code auditing by independent entities.\r",
       "</br>… [+2361 chars]Getty\r",
       "</br>You have to use phrases like Ethereum Is Going To The Moon because we are after all talking about cryptocurrency, the bad boy of the financial world.\r",
       "</br>Ive never been a fan of Ethereum because … [+4415 chars]Many who are new to crypto assume that there will only be \n",
       "<mark class=\"entity\" style=\"background: #e4e7d2; padding: 0.45em 0.6em; margin: 0 0.25em; line-height: 1; border-radius: 0.35em;\">\n",
       "    one\n",
       "    <span style=\"font-size: 0.8em; font-weight: bold; line-height: 1; border-radius: 0.35em; text-transform: uppercase; vertical-align: middle; margin-left: 0.5rem\">CARDINAL</span>\n",
       "</mark>\n",
       " important cryptoasset in the long run, and that the challenge as an investor is to pick the best one.\r",
       "</br>We disagree.\r",
       "</br>Why? Because differe… [+9664 chars]BITCOIN \n",
       "<mark class=\"entity\" style=\"background: #7aecec; padding: 0.45em 0.6em; margin: 0 0.25em; line-height: 1; border-radius: 0.35em;\">\n",
       "    DASH\n",
       "    <span style=\"font-size: 0.8em; font-weight: bold; line-height: 1; border-radius: 0.35em; text-transform: uppercase; vertical-align: middle; margin-left: 0.5rem\">ORG</span>\n",
       "</mark>\n",
       " THE \n",
       "<mark class=\"entity\" style=\"background: #feca74; padding: 0.45em 0.6em; margin: 0 0.25em; line-height: 1; border-radius: 0.35em;\">\n",
       "    Bitcoin\n",
       "    <span style=\"font-size: 0.8em; font-weight: bold; line-height: 1; border-radius: 0.35em; text-transform: uppercase; vertical-align: middle; margin-left: 0.5rem\">GPE</span>\n",
       "</mark>\n",
       " is the original cryptocurrency, and was released as open-source software in \n",
       "<mark class=\"entity\" style=\"background: #bfe1d9; padding: 0.45em 0.6em; margin: 0 0.25em; line-height: 1; border-radius: 0.35em;\">\n",
       "    2009\n",
       "    <span style=\"font-size: 0.8em; font-weight: bold; line-height: 1; border-radius: 0.35em; text-transform: uppercase; vertical-align: middle; margin-left: 0.5rem\">DATE</span>\n",
       "</mark>\n",
       ". \n",
       "<mark class=\"entity\" style=\"background: #aa9cfc; padding: 0.45em 0.6em; margin: 0 0.25em; line-height: 1; border-radius: 0.35em;\">\n",
       "    CRYPTO UNIVERSE Dash\n",
       "    <span style=\"font-size: 0.8em; font-weight: bold; line-height: 1; border-radius: 0.35em; text-transform: uppercase; vertical-align: middle; margin-left: 0.5rem\">PERSON</span>\n",
       "</mark>\n",
       " is an attempt to improve on \n",
       "<mark class=\"entity\" style=\"background: #feca74; padding: 0.45em 0.6em; margin: 0 0.25em; line-height: 1; border-radius: 0.35em;\">\n",
       "    Bitcoin\n",
       "    <span style=\"font-size: 0.8em; font-weight: bold; line-height: 1; border-radius: 0.35em; text-transform: uppercase; vertical-align: middle; margin-left: 0.5rem\">GPE</span>\n",
       "</mark>\n",
       " in \n",
       "<mark class=\"entity\" style=\"background: #e4e7d2; padding: 0.45em 0.6em; margin: 0 0.25em; line-height: 1; border-radius: 0.35em;\">\n",
       "    two\n",
       "    <span style=\"font-size: 0.8em; font-weight: bold; line-height: 1; border-radius: 0.35em; text-transform: uppercase; vertical-align: middle; margin-left: 0.5rem\">CARDINAL</span>\n",
       "</mark>\n",
       " main areas: speed of transac… [+8117 chars]Bolton book reveals President \n",
       "<mark class=\"entity\" style=\"background: #aa9cfc; padding: 0.45em 0.6em; margin: 0 0.25em; line-height: 1; border-radius: 0.35em;\">\n",
       "    Trumps\n",
       "    <span style=\"font-size: 0.8em; font-weight: bold; line-height: 1; border-radius: 0.35em; text-transform: uppercase; vertical-align: middle; margin-left: 0.5rem\">PERSON</span>\n",
       "</mark>\n",
       " suspicion of \n",
       "<mark class=\"entity\" style=\"background: #feca74; padding: 0.45em 0.6em; margin: 0 0.25em; line-height: 1; border-radius: 0.35em;\">\n",
       "    Bitcoin\n",
       "    <span style=\"font-size: 0.8em; font-weight: bold; line-height: 1; border-radius: 0.35em; text-transform: uppercase; vertical-align: middle; margin-left: 0.5rem\">GPE</span>\n",
       "</mark>\n",
       ", but his administrations actions support \n",
       "<mark class=\"entity\" style=\"background: #feca74; padding: 0.45em 0.6em; margin: 0 0.25em; line-height: 1; border-radius: 0.35em;\">\n",
       "    Bitcoin\n",
       "    <span style=\"font-size: 0.8em; font-weight: bold; line-height: 1; border-radius: 0.35em; text-transform: uppercase; vertical-align: middle; margin-left: 0.5rem\">GPE</span>\n",
       "</mark>\n",
       " and \n",
       "<mark class=\"entity\" style=\"background: #feca74; padding: 0.45em 0.6em; margin: 0 0.25em; line-height: 1; border-radius: 0.35em;\">\n",
       "    Ethereum\n",
       "    <span style=\"font-size: 0.8em; font-weight: bold; line-height: 1; border-radius: 0.35em; text-transform: uppercase; vertical-align: middle; margin-left: 0.5rem\">GPE</span>\n",
       "</mark>\n",
       " at the expense of other crypto currencies.\r",
       "</br>National Security Advisor \n",
       "<mark class=\"entity\" style=\"background: #aa9cfc; padding: 0.45em 0.6em; margin: 0 0.25em; line-height: 1; border-radius: 0.35em;\">\n",
       "    John R. B…\n",
       "    <span style=\"font-size: 0.8em; font-weight: bold; line-height: 1; border-radius: 0.35em; text-transform: uppercase; vertical-align: middle; margin-left: 0.5rem\">PERSON</span>\n",
       "</mark>\n",
       " [+5424 chars]If you're into cryptocurrency like \n",
       "<mark class=\"entity\" style=\"background: #feca74; padding: 0.45em 0.6em; margin: 0 0.25em; line-height: 1; border-radius: 0.35em;\">\n",
       "    Bitcoin\n",
       "    <span style=\"font-size: 0.8em; font-weight: bold; line-height: 1; border-radius: 0.35em; text-transform: uppercase; vertical-align: middle; margin-left: 0.5rem\">GPE</span>\n",
       "</mark>\n",
       ", \n",
       "<mark class=\"entity\" style=\"background: #feca74; padding: 0.45em 0.6em; margin: 0 0.25em; line-height: 1; border-radius: 0.35em;\">\n",
       "    Ethereum\n",
       "    <span style=\"font-size: 0.8em; font-weight: bold; line-height: 1; border-radius: 0.35em; text-transform: uppercase; vertical-align: middle; margin-left: 0.5rem\">GPE</span>\n",
       "</mark>\n",
       ", \n",
       "<mark class=\"entity\" style=\"background: #7aecec; padding: 0.45em 0.6em; margin: 0 0.25em; line-height: 1; border-radius: 0.35em;\">\n",
       "    ERC20\n",
       "    <span style=\"font-size: 0.8em; font-weight: bold; line-height: 1; border-radius: 0.35em; text-transform: uppercase; vertical-align: middle; margin-left: 0.5rem\">ORG</span>\n",
       "</mark>\n",
       ", and others, then you need a good crypto wallet. \n",
       "<mark class=\"entity\" style=\"background: #f0d0ff; padding: 0.45em 0.6em; margin: 0 0.25em; line-height: 1; border-radius: 0.35em;\">\n",
       "    The Ledger Nano X Bluetooth\n",
       "    <span style=\"font-size: 0.8em; font-weight: bold; line-height: 1; border-radius: 0.35em; text-transform: uppercase; vertical-align: middle; margin-left: 0.5rem\">WORK_OF_ART</span>\n",
       "</mark>\n",
       " crypto hardware wallet is down to $\n",
       "<mark class=\"entity\" style=\"background: #e4e7d2; padding: 0.45em 0.6em; margin: 0 0.25em; line-height: 1; border-radius: 0.35em;\">\n",
       "    89.25\n",
       "    <span style=\"font-size: 0.8em; font-weight: bold; line-height: 1; border-radius: 0.35em; text-transform: uppercase; vertical-align: middle; margin-left: 0.5rem\">MONEY</span>\n",
       "</mark>\n",
       " on \n",
       "<mark class=\"entity\" style=\"background: #7aecec; padding: 0.45em 0.6em; margin: 0 0.25em; line-height: 1; border-radius: 0.35em;\">\n",
       "    Amazon\n",
       "    <span style=\"font-size: 0.8em; font-weight: bold; line-height: 1; border-radius: 0.35em; text-transform: uppercase; vertical-align: middle; margin-left: 0.5rem\">ORG</span>\n",
       "</mark>\n",
       ". The Nano X… [+2003 chars]BUY BITCOIN WITH VENMO OWNR Wallet helps users to keep their digital coins safe from external threats, while also offering a variety of useful features to both holders and traders. www.ownrwallet.comSigal \n",
       "<mark class=\"entity\" style=\"background: #aa9cfc; padding: 0.45em 0.6em; margin: 0 0.25em; line-height: 1; border-radius: 0.35em;\">\n",
       "    Mandelker\n",
       "    <span style=\"font-size: 0.8em; font-weight: bold; line-height: 1; border-radius: 0.35em; text-transform: uppercase; vertical-align: middle; margin-left: 0.5rem\">PERSON</span>\n",
       "</mark>\n",
       ", then-\n",
       "<mark class=\"entity\" style=\"background: #7aecec; padding: 0.45em 0.6em; margin: 0 0.25em; line-height: 1; border-radius: 0.35em;\">\n",
       "    U.S. Treasury\n",
       "    <span style=\"font-size: 0.8em; font-weight: bold; line-height: 1; border-radius: 0.35em; text-transform: uppercase; vertical-align: middle; margin-left: 0.5rem\">ORG</span>\n",
       "</mark>\n",
       " undersecretary for terrorism and financial intelligence, speaks ... [+] during a \n",
       "<mark class=\"entity\" style=\"background: #bfe1d9; padding: 0.45em 0.6em; margin: 0 0.25em; line-height: 1; border-radius: 0.35em;\">\n",
       "    2018\n",
       "    <span style=\"font-size: 0.8em; font-weight: bold; line-height: 1; border-radius: 0.35em; text-transform: uppercase; vertical-align: middle; margin-left: 0.5rem\">DATE</span>\n",
       "</mark>\n",
       " conference on cyber law enforcement at \n",
       "<mark class=\"entity\" style=\"background: #7aecec; padding: 0.45em 0.6em; margin: 0 0.25em; line-height: 1; border-radius: 0.35em;\">\n",
       "    the Department of Justice\n",
       "    <span style=\"font-size: 0.8em; font-weight: bold; line-height: 1; border-radius: 0.35em; text-transform: uppercase; vertical-align: middle; margin-left: 0.5rem\">ORG</span>\n",
       "</mark>\n",
       " in Washingto… [+5801 chars]This is \n",
       "<mark class=\"entity\" style=\"background: #bfe1d9; padding: 0.45em 0.6em; margin: 0 0.25em; line-height: 1; border-radius: 0.35em;\">\n",
       "    a weird year\n",
       "    <span style=\"font-size: 0.8em; font-weight: bold; line-height: 1; border-radius: 0.35em; text-transform: uppercase; vertical-align: middle; margin-left: 0.5rem\">DATE</span>\n",
       "</mark>\n",
       " for everyone and everything, but it’s a particularly weird \n",
       "<mark class=\"entity\" style=\"background: #bfe1d9; padding: 0.45em 0.6em; margin: 0 0.25em; line-height: 1; border-radius: 0.35em;\">\n",
       "    year\n",
       "    <span style=\"font-size: 0.8em; font-weight: bold; line-height: 1; border-radius: 0.35em; text-transform: uppercase; vertical-align: middle; margin-left: 0.5rem\">DATE</span>\n",
       "</mark>\n",
       " for Ethereum. \r",
       "</br>Why? The \n",
       "<mark class=\"entity\" style=\"background: #e4e7d2; padding: 0.45em 0.6em; margin: 0 0.25em; line-height: 1; border-radius: 0.35em;\">\n",
       "    second\n",
       "    <span style=\"font-size: 0.8em; font-weight: bold; line-height: 1; border-radius: 0.35em; text-transform: uppercase; vertical-align: middle; margin-left: 0.5rem\">ORDINAL</span>\n",
       "</mark>\n",
       "-largest blockchain by market cap and the largest by contributing developers has al… [+8276 chars]</div></span>"
      ],
      "text/plain": [
       "<IPython.core.display.HTML object>"
      ]
     },
     "metadata": {},
     "output_type": "display_data"
    }
   ],
   "source": [
    "# Render the visualization\n",
    "displacy.render(doc4, style='ent')"
   ]
  },
  {
   "cell_type": "code",
   "execution_count": 189,
   "metadata": {},
   "outputs": [
    {
     "data": {
      "text/plain": [
       "['Sparrow Exchange',\n",
       " 'Bitcoin',\n",
       " 'Singapore',\n",
       " 'HDR Group',\n",
       " 'Andreessen HorowitzsCrypto Startup School',\n",
       " 'U.S.',\n",
       " 'The Social Network',\n",
       " 'AWS Lambda',\n",
       " 'Vendia',\n",
       " 'Bitcoin',\n",
       " 'bitcoin',\n",
       " 'DASH',\n",
       " 'Bitcoin',\n",
       " 'Bitcoin',\n",
       " 'Bitcoin',\n",
       " 'Bitcoin',\n",
       " 'Ethereum',\n",
       " 'Bitcoin',\n",
       " 'Ethereum',\n",
       " 'ERC20',\n",
       " 'Amazon',\n",
       " 'U.S. Treasury',\n",
       " 'the Department of Justice']"
      ]
     },
     "execution_count": 189,
     "metadata": {},
     "output_type": "execute_result"
    }
   ],
   "source": [
    "# List all Entities\n",
    "entities2 = [ent.text for ent in doc4.ents if ent.label_ in ['GPE', 'ORG']]\n",
    "entities2"
   ]
  }
 ],
 "metadata": {
  "file_extension": ".py",
  "kernelspec": {
   "display_name": "Python 3",
   "language": "python",
   "name": "python3"
  },
  "language_info": {
   "codemirror_mode": {
    "name": "ipython",
    "version": 3
   },
   "file_extension": ".py",
   "mimetype": "text/x-python",
   "name": "python",
   "nbconvert_exporter": "python",
   "pygments_lexer": "ipython3",
   "version": "3.7.7"
  },
  "mimetype": "text/x-python",
  "name": "python",
  "npconvert_exporter": "python",
  "pygments_lexer": "ipython3",
  "version": 3
 },
 "nbformat": 4,
 "nbformat_minor": 4
}
